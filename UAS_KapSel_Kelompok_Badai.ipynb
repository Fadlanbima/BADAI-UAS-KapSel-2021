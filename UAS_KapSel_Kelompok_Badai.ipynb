{
  "cells": [
    {
      "cell_type": "markdown",
      "metadata": {
        "id": "view-in-github",
        "colab_type": "text"
      },
      "source": [
        "<a href=\"https://colab.research.google.com/github/Fadlanbima/BADAI_UAS_KapSel/blob/main/UAS_KapSel_Kelompok_Badai.ipynb\" target=\"_parent\"><img src=\"https://colab.research.google.com/assets/colab-badge.svg\" alt=\"Open In Colab\"/></a>"
      ]
    },
    {
      "cell_type": "code",
      "execution_count": null,
      "metadata": {
        "colab": {
          "base_uri": "https://localhost:8080/"
        },
        "id": "EFGbrz9KRetE",
        "outputId": "6a86058f-5731-4685-9b28-7ca80aa6c71c"
      },
      "outputs": [
        {
          "output_type": "stream",
          "name": "stdout",
          "text": [
            "Cloning into 'BADAI_UAS_KapSel'...\n",
            "remote: Enumerating objects: 175, done.\u001b[K\n",
            "remote: Counting objects: 100% (175/175), done.\u001b[K\n",
            "remote: Compressing objects: 100% (169/169), done.\u001b[K\n",
            "remote: Total 175 (delta 84), reused 0 (delta 0), pack-reused 0\u001b[K\n",
            "Receiving objects: 100% (175/175), 5.34 MiB | 2.47 MiB/s, done.\n",
            "Resolving deltas: 100% (84/84), done.\n"
          ]
        }
      ],
      "source": [
        "!git clone https://github.com/Fadlanbima/BADAI_UAS_KapSel.git"
      ]
    },
    {
      "cell_type": "code",
      "execution_count": null,
      "metadata": {
        "colab": {
          "base_uri": "https://localhost:8080/"
        },
        "id": "iQVUg5i5Rff3",
        "outputId": "ecf87349-7b51-4154-9246-bbfebce3a5b0"
      },
      "outputs": [
        {
          "output_type": "stream",
          "name": "stdout",
          "text": [
            "Collecting docx2txt\n",
            "  Downloading docx2txt-0.8.tar.gz (2.8 kB)\n",
            "Building wheels for collected packages: docx2txt\n",
            "  Building wheel for docx2txt (setup.py) ... \u001b[?25l\u001b[?25hdone\n",
            "  Created wheel for docx2txt: filename=docx2txt-0.8-py3-none-any.whl size=3980 sha256=4fa4c690202e00a78293dfe06bcba9efd96485394f95b093ef75b6e334fe8dda\n",
            "  Stored in directory: /root/.cache/pip/wheels/b7/20/b2/473e3aea9a0c0d3e7b2f7bd81d06d0794fec12752733d1f3a8\n",
            "Successfully built docx2txt\n",
            "Installing collected packages: docx2txt\n",
            "Successfully installed docx2txt-0.8\n"
          ]
        }
      ],
      "source": [
        "pip install docx2txt"
      ]
    },
    {
      "cell_type": "code",
      "execution_count": null,
      "metadata": {
        "colab": {
          "base_uri": "https://localhost:8080/"
        },
        "id": "8WMB7B-eTivl",
        "outputId": "f46eb276-3525-43d4-9cca-4f1b1a6ad7e7"
      },
      "outputs": [
        {
          "output_type": "stream",
          "name": "stdout",
          "text": [
            "Collecting Unidecode\n",
            "  Downloading Unidecode-1.3.2-py3-none-any.whl (235 kB)\n",
            "\u001b[?25l\r\u001b[K     |█▍                              | 10 kB 25.2 MB/s eta 0:00:01\r\u001b[K     |██▉                             | 20 kB 20.9 MB/s eta 0:00:01\r\u001b[K     |████▏                           | 30 kB 10.5 MB/s eta 0:00:01\r\u001b[K     |█████▋                          | 40 kB 4.4 MB/s eta 0:00:01\r\u001b[K     |███████                         | 51 kB 5.0 MB/s eta 0:00:01\r\u001b[K     |████████▍                       | 61 kB 5.5 MB/s eta 0:00:01\r\u001b[K     |█████████▊                      | 71 kB 5.7 MB/s eta 0:00:01\r\u001b[K     |███████████▏                    | 81 kB 6.4 MB/s eta 0:00:01\r\u001b[K     |████████████▌                   | 92 kB 5.3 MB/s eta 0:00:01\r\u001b[K     |██████████████                  | 102 kB 5.1 MB/s eta 0:00:01\r\u001b[K     |███████████████▎                | 112 kB 5.1 MB/s eta 0:00:01\r\u001b[K     |████████████████▊               | 122 kB 5.1 MB/s eta 0:00:01\r\u001b[K     |██████████████████              | 133 kB 5.1 MB/s eta 0:00:01\r\u001b[K     |███████████████████▌            | 143 kB 5.1 MB/s eta 0:00:01\r\u001b[K     |████████████████████▉           | 153 kB 5.1 MB/s eta 0:00:01\r\u001b[K     |██████████████████████▎         | 163 kB 5.1 MB/s eta 0:00:01\r\u001b[K     |███████████████████████▋        | 174 kB 5.1 MB/s eta 0:00:01\r\u001b[K     |█████████████████████████       | 184 kB 5.1 MB/s eta 0:00:01\r\u001b[K     |██████████████████████████▍     | 194 kB 5.1 MB/s eta 0:00:01\r\u001b[K     |███████████████████████████▉    | 204 kB 5.1 MB/s eta 0:00:01\r\u001b[K     |█████████████████████████████▏  | 215 kB 5.1 MB/s eta 0:00:01\r\u001b[K     |██████████████████████████████▋ | 225 kB 5.1 MB/s eta 0:00:01\r\u001b[K     |████████████████████████████████| 235 kB 5.1 MB/s eta 0:00:01\r\u001b[K     |████████████████████████████████| 235 kB 5.1 MB/s \n",
            "\u001b[?25hInstalling collected packages: Unidecode\n",
            "Successfully installed Unidecode-1.3.2\n"
          ]
        }
      ],
      "source": [
        "pip install Unidecode"
      ]
    },
    {
      "cell_type": "code",
      "execution_count": null,
      "metadata": {
        "colab": {
          "base_uri": "https://localhost:8080/"
        },
        "id": "s7q7AveZTk2r",
        "outputId": "15630186-9df3-4368-c5d2-dba683b2864d"
      },
      "outputs": [
        {
          "output_type": "stream",
          "name": "stdout",
          "text": [
            "[nltk_data] Downloading package punkt to /root/nltk_data...\n",
            "[nltk_data]   Unzipping tokenizers/punkt.zip.\n"
          ]
        },
        {
          "output_type": "execute_result",
          "data": {
            "text/plain": [
              "True"
            ]
          },
          "metadata": {},
          "execution_count": 4
        }
      ],
      "source": [
        "import nltk\n",
        "nltk.download('punkt')"
      ]
    },
    {
      "cell_type": "code",
      "execution_count": null,
      "metadata": {
        "id": "HLTuNR28TovN"
      },
      "outputs": [],
      "source": [
        "import pandas as pd\n",
        "from BADAI_UAS_KapSel import TextMining as tm\n",
        "from BADAI_UAS_KapSel import CleanText as ct\n",
        "from BADAI_UAS_KapSel import modelling as mdg\n",
        "import numpy as np\n",
        "import pandas as pd\n",
        "import seaborn as sns\n",
        "import matplotlib.pyplot as plt\n",
        "from wordcloud import WordCloud, STOPWORDS"
      ]
    },
    {
      "cell_type": "code",
      "execution_count": null,
      "metadata": {
        "id": "xTNwF98ZTqeY"
      },
      "outputs": [],
      "source": [
        "dataPath = tm.crawlFiles('/content/BADAI_UAS_KapSel/data', types = 'json')"
      ]
    },
    {
      "cell_type": "code",
      "execution_count": null,
      "metadata": {
        "id": "NgIHZnZ7UKk0"
      },
      "outputs": [],
      "source": [
        "data = pd.concat([pd.read_json(f, lines = True) for f in dataPath])"
      ]
    },
    {
      "cell_type": "code",
      "execution_count": null,
      "metadata": {
        "id": "DiU5BZPHAh5c"
      },
      "outputs": [],
      "source": [
        "data = data.reset_index(drop=True)"
      ]
    },
    {
      "cell_type": "code",
      "execution_count": null,
      "metadata": {
        "colab": {
          "base_uri": "https://localhost:8080/"
        },
        "id": "8X8yH2IZApvc",
        "outputId": "f8d017f0-877b-41e9-c457-df413deda4e0"
      },
      "outputs": [
        {
          "output_type": "execute_result",
          "data": {
            "text/plain": [
              "('baris = ', 15670, ' kolom = ', 31)"
            ]
          },
          "metadata": {},
          "execution_count": 9
        }
      ],
      "source": [
        "N, P = data.shape\n",
        "'baris = ', N, ' kolom = ', P"
      ]
    },
    {
      "cell_type": "code",
      "execution_count": null,
      "metadata": {
        "colab": {
          "base_uri": "https://localhost:8080/"
        },
        "id": "sEL7N8y1BDsF",
        "outputId": "7b951e5e-b818-4a44-8055-914dc911920a"
      },
      "outputs": [
        {
          "output_type": "execute_result",
          "data": {
            "text/plain": [
              "Index(['created_at', 'id', 'id_str', 'full_text', 'truncated',\n",
              "       'display_text_range', 'entities', 'metadata', 'source',\n",
              "       'in_reply_to_status_id', 'in_reply_to_status_id_str',\n",
              "       'in_reply_to_user_id', 'in_reply_to_user_id_str',\n",
              "       'in_reply_to_screen_name', 'user', 'geo', 'coordinates', 'place',\n",
              "       'contributors', 'retweeted_status', 'is_quote_status', 'retweet_count',\n",
              "       'favorite_count', 'favorited', 'retweeted', 'possibly_sensitive',\n",
              "       'lang', 'extended_entities', 'quoted_status_id', 'quoted_status_id_str',\n",
              "       'quoted_status'],\n",
              "      dtype='object')"
            ]
          },
          "metadata": {},
          "execution_count": 10
        }
      ],
      "source": [
        "data.keys()"
      ]
    },
    {
      "cell_type": "code",
      "source": [
        "user = data['user']\n",
        "nama = []\n",
        "for i in user:\n",
        "  nama.append(i)"
      ],
      "metadata": {
        "id": "DuclK0xzVOxx"
      },
      "execution_count": null,
      "outputs": []
    },
    {
      "cell_type": "code",
      "source": [
        "username = pd.DataFrame(nama)\n",
        "username = username[['name', 'screen_name', 'location', 'verified', 'followers_count', 'friends_count']]\n",
        "username.head()"
      ],
      "metadata": {
        "colab": {
          "base_uri": "https://localhost:8080/",
          "height": 206
        },
        "id": "NBulPVRHVknF",
        "outputId": "61fc93e6-88e9-4dd6-9075-4dc490e912d0"
      },
      "execution_count": null,
      "outputs": [
        {
          "output_type": "execute_result",
          "data": {
            "text/html": [
              "<div>\n",
              "<style scoped>\n",
              "    .dataframe tbody tr th:only-of-type {\n",
              "        vertical-align: middle;\n",
              "    }\n",
              "\n",
              "    .dataframe tbody tr th {\n",
              "        vertical-align: top;\n",
              "    }\n",
              "\n",
              "    .dataframe thead th {\n",
              "        text-align: right;\n",
              "    }\n",
              "</style>\n",
              "<table border=\"1\" class=\"dataframe\">\n",
              "  <thead>\n",
              "    <tr style=\"text-align: right;\">\n",
              "      <th></th>\n",
              "      <th>name</th>\n",
              "      <th>screen_name</th>\n",
              "      <th>location</th>\n",
              "      <th>verified</th>\n",
              "      <th>followers_count</th>\n",
              "      <th>friends_count</th>\n",
              "    </tr>\n",
              "  </thead>\n",
              "  <tbody>\n",
              "    <tr>\n",
              "      <th>0</th>\n",
              "      <td>GIGIEN GERHANA 🌕</td>\n",
              "      <td>gigien_g</td>\n",
              "      <td>Bandung City - Indonesia🌄</td>\n",
              "      <td>False</td>\n",
              "      <td>83</td>\n",
              "      <td>2436</td>\n",
              "    </tr>\n",
              "    <tr>\n",
              "      <th>1</th>\n",
              "      <td>Gibera Kata</td>\n",
              "      <td>giberakata</td>\n",
              "      <td></td>\n",
              "      <td>False</td>\n",
              "      <td>2294</td>\n",
              "      <td>2512</td>\n",
              "    </tr>\n",
              "    <tr>\n",
              "      <th>2</th>\n",
              "      <td>Jejak Literasi</td>\n",
              "      <td>Jelita2020</td>\n",
              "      <td>West Java</td>\n",
              "      <td>False</td>\n",
              "      <td>1764</td>\n",
              "      <td>1899</td>\n",
              "    </tr>\n",
              "    <tr>\n",
              "      <th>3</th>\n",
              "      <td>WahanaNews Official</td>\n",
              "      <td>wahananewsdotco</td>\n",
              "      <td>Jakarta</td>\n",
              "      <td>False</td>\n",
              "      <td>4996</td>\n",
              "      <td>4856</td>\n",
              "    </tr>\n",
              "    <tr>\n",
              "      <th>4</th>\n",
              "      <td>Ratu.</td>\n",
              "      <td>belamouvr</td>\n",
              "      <td>JAKSEL + NSFW</td>\n",
              "      <td>False</td>\n",
              "      <td>176</td>\n",
              "      <td>243</td>\n",
              "    </tr>\n",
              "  </tbody>\n",
              "</table>\n",
              "</div>"
            ],
            "text/plain": [
              "                  name      screen_name  ... followers_count  friends_count\n",
              "0     GIGIEN GERHANA 🌕         gigien_g  ...              83           2436\n",
              "1          Gibera Kata       giberakata  ...            2294           2512\n",
              "2       Jejak Literasi       Jelita2020  ...            1764           1899\n",
              "3  WahanaNews Official  wahananewsdotco  ...            4996           4856\n",
              "4                Ratu.        belamouvr  ...             176            243\n",
              "\n",
              "[5 rows x 6 columns]"
            ]
          },
          "metadata": {},
          "execution_count": 12
        }
      ]
    },
    {
      "cell_type": "code",
      "source": [
        "username.keys()"
      ],
      "metadata": {
        "colab": {
          "base_uri": "https://localhost:8080/"
        },
        "id": "BrpHnwRjVuYR",
        "outputId": "fb1e52a8-0aca-4e20-a4c5-35b46d70dd22"
      },
      "execution_count": null,
      "outputs": [
        {
          "output_type": "execute_result",
          "data": {
            "text/plain": [
              "Index(['name', 'screen_name', 'location', 'verified', 'followers_count',\n",
              "       'friends_count'],\n",
              "      dtype='object')"
            ]
          },
          "metadata": {},
          "execution_count": 13
        }
      ]
    },
    {
      "cell_type": "code",
      "execution_count": null,
      "metadata": {
        "colab": {
          "base_uri": "https://localhost:8080/"
        },
        "id": "-VIKkgcvDLXk",
        "outputId": "3a13cf8d-c2bc-4486-8751-d81c6b5bd2f1"
      },
      "outputs": [
        {
          "output_type": "execute_result",
          "data": {
            "text/plain": [
              "Index(['name', 'screen_name', 'location', 'verified', 'followers_count',\n",
              "       'friends_count'],\n",
              "      dtype='object')"
            ]
          },
          "metadata": {},
          "execution_count": 14
        }
      ],
      "source": [
        "username.keys()"
      ]
    },
    {
      "cell_type": "code",
      "execution_count": null,
      "metadata": {
        "id": "6IRNzC26UNL2",
        "colab": {
          "base_uri": "https://localhost:8080/",
          "height": 417
        },
        "outputId": "11a81e28-056b-465a-86ac-fb7344d79e69"
      },
      "outputs": [
        {
          "output_type": "execute_result",
          "data": {
            "text/html": [
              "<div>\n",
              "<style scoped>\n",
              "    .dataframe tbody tr th:only-of-type {\n",
              "        vertical-align: middle;\n",
              "    }\n",
              "\n",
              "    .dataframe tbody tr th {\n",
              "        vertical-align: top;\n",
              "    }\n",
              "\n",
              "    .dataframe thead th {\n",
              "        text-align: right;\n",
              "    }\n",
              "</style>\n",
              "<table border=\"1\" class=\"dataframe\">\n",
              "  <thead>\n",
              "    <tr style=\"text-align: right;\">\n",
              "      <th></th>\n",
              "      <th>created_at</th>\n",
              "      <th>id</th>\n",
              "      <th>id_str</th>\n",
              "      <th>full_text</th>\n",
              "      <th>truncated</th>\n",
              "      <th>display_text_range</th>\n",
              "      <th>entities</th>\n",
              "      <th>metadata</th>\n",
              "      <th>source</th>\n",
              "      <th>in_reply_to_status_id</th>\n",
              "      <th>in_reply_to_status_id_str</th>\n",
              "      <th>in_reply_to_user_id</th>\n",
              "      <th>in_reply_to_user_id_str</th>\n",
              "      <th>in_reply_to_screen_name</th>\n",
              "      <th>user</th>\n",
              "      <th>geo</th>\n",
              "      <th>coordinates</th>\n",
              "      <th>place</th>\n",
              "      <th>contributors</th>\n",
              "      <th>retweeted_status</th>\n",
              "      <th>is_quote_status</th>\n",
              "      <th>retweet_count</th>\n",
              "      <th>favorite_count</th>\n",
              "      <th>favorited</th>\n",
              "      <th>retweeted</th>\n",
              "      <th>possibly_sensitive</th>\n",
              "      <th>lang</th>\n",
              "      <th>extended_entities</th>\n",
              "      <th>quoted_status_id</th>\n",
              "      <th>quoted_status_id_str</th>\n",
              "      <th>quoted_status</th>\n",
              "      <th>name</th>\n",
              "      <th>screen_name</th>\n",
              "      <th>location</th>\n",
              "      <th>verified</th>\n",
              "      <th>followers_count</th>\n",
              "      <th>friends_count</th>\n",
              "    </tr>\n",
              "  </thead>\n",
              "  <tbody>\n",
              "    <tr>\n",
              "      <th>0</th>\n",
              "      <td>2021-12-10 08:52:24+00:00</td>\n",
              "      <td>1469228494202626053</td>\n",
              "      <td>1469228494202626048</td>\n",
              "      <td>RT @kumparan: Pohon dengan ketinggian 10 meter...</td>\n",
              "      <td>False</td>\n",
              "      <td>[0, 127]</td>\n",
              "      <td>{'hashtags': [{'text': 'kumparanNEWS', 'indice...</td>\n",
              "      <td>{'iso_language_code': 'in', 'result_type': 're...</td>\n",
              "      <td>&lt;a href=\"https://mobile.twitter.com\" rel=\"nofo...</td>\n",
              "      <td>NaN</td>\n",
              "      <td>NaN</td>\n",
              "      <td>NaN</td>\n",
              "      <td>NaN</td>\n",
              "      <td>None</td>\n",
              "      <td>{'id': 1392836278312341510, 'id_str': '1392836...</td>\n",
              "      <td>None</td>\n",
              "      <td>None</td>\n",
              "      <td>None</td>\n",
              "      <td>NaN</td>\n",
              "      <td>{'created_at': 'Fri Dec 10 08:46:10 +0000 2021...</td>\n",
              "      <td>False</td>\n",
              "      <td>1</td>\n",
              "      <td>0</td>\n",
              "      <td>False</td>\n",
              "      <td>False</td>\n",
              "      <td>0.0</td>\n",
              "      <td>in</td>\n",
              "      <td>NaN</td>\n",
              "      <td>NaN</td>\n",
              "      <td>NaN</td>\n",
              "      <td>NaN</td>\n",
              "      <td>GIGIEN GERHANA 🌕</td>\n",
              "      <td>gigien_g</td>\n",
              "      <td>Bandung City - Indonesia🌄</td>\n",
              "      <td>False</td>\n",
              "      <td>83</td>\n",
              "      <td>2436</td>\n",
              "    </tr>\n",
              "    <tr>\n",
              "      <th>1</th>\n",
              "      <td>2021-12-10 08:52:06+00:00</td>\n",
              "      <td>1469228418709397504</td>\n",
              "      <td>1469228418709397504</td>\n",
              "      <td>RT @wahananewsdotco: Angin Kencang Acak-acak 2...</td>\n",
              "      <td>False</td>\n",
              "      <td>[0, 93]</td>\n",
              "      <td>{'hashtags': [], 'symbols': [], 'user_mentions...</td>\n",
              "      <td>{'iso_language_code': 'in', 'result_type': 're...</td>\n",
              "      <td>&lt;a href=\"https://dlvrit.com/\" rel=\"nofollow\"&gt;d...</td>\n",
              "      <td>NaN</td>\n",
              "      <td>NaN</td>\n",
              "      <td>NaN</td>\n",
              "      <td>NaN</td>\n",
              "      <td>None</td>\n",
              "      <td>{'id': 1201741859640397824, 'id_str': '1201741...</td>\n",
              "      <td>None</td>\n",
              "      <td>None</td>\n",
              "      <td>None</td>\n",
              "      <td>NaN</td>\n",
              "      <td>{'created_at': 'Fri Dec 10 08:49:02 +0000 2021...</td>\n",
              "      <td>False</td>\n",
              "      <td>4</td>\n",
              "      <td>0</td>\n",
              "      <td>False</td>\n",
              "      <td>False</td>\n",
              "      <td>0.0</td>\n",
              "      <td>in</td>\n",
              "      <td>NaN</td>\n",
              "      <td>NaN</td>\n",
              "      <td>NaN</td>\n",
              "      <td>NaN</td>\n",
              "      <td>Gibera Kata</td>\n",
              "      <td>giberakata</td>\n",
              "      <td></td>\n",
              "      <td>False</td>\n",
              "      <td>2294</td>\n",
              "      <td>2512</td>\n",
              "    </tr>\n",
              "    <tr>\n",
              "      <th>2</th>\n",
              "      <td>2021-12-10 08:49:32+00:00</td>\n",
              "      <td>1469227773176598530</td>\n",
              "      <td>1469227773176598528</td>\n",
              "      <td>RT @wahananewsdotco: Angin Kencang Acak-acak 2...</td>\n",
              "      <td>False</td>\n",
              "      <td>[0, 93]</td>\n",
              "      <td>{'hashtags': [], 'symbols': [], 'user_mentions...</td>\n",
              "      <td>{'iso_language_code': 'in', 'result_type': 're...</td>\n",
              "      <td>&lt;a href=\"https://dlvrit.com/\" rel=\"nofollow\"&gt;d...</td>\n",
              "      <td>NaN</td>\n",
              "      <td>NaN</td>\n",
              "      <td>NaN</td>\n",
              "      <td>NaN</td>\n",
              "      <td>None</td>\n",
              "      <td>{'id': 1209638707973607424, 'id_str': '1209638...</td>\n",
              "      <td>None</td>\n",
              "      <td>None</td>\n",
              "      <td>None</td>\n",
              "      <td>NaN</td>\n",
              "      <td>{'created_at': 'Fri Dec 10 08:49:02 +0000 2021...</td>\n",
              "      <td>False</td>\n",
              "      <td>4</td>\n",
              "      <td>0</td>\n",
              "      <td>False</td>\n",
              "      <td>False</td>\n",
              "      <td>0.0</td>\n",
              "      <td>in</td>\n",
              "      <td>NaN</td>\n",
              "      <td>NaN</td>\n",
              "      <td>NaN</td>\n",
              "      <td>NaN</td>\n",
              "      <td>Jejak Literasi</td>\n",
              "      <td>Jelita2020</td>\n",
              "      <td>West Java</td>\n",
              "      <td>False</td>\n",
              "      <td>1764</td>\n",
              "      <td>1899</td>\n",
              "    </tr>\n",
              "    <tr>\n",
              "      <th>3</th>\n",
              "      <td>2021-12-10 08:49:02+00:00</td>\n",
              "      <td>1469227647263596544</td>\n",
              "      <td>1469227647263596544</td>\n",
              "      <td>Angin Kencang Acak-acak 28 Rumah di Sorong Pap...</td>\n",
              "      <td>False</td>\n",
              "      <td>[0, 72]</td>\n",
              "      <td>{'hashtags': [], 'symbols': [], 'user_mentions...</td>\n",
              "      <td>{'iso_language_code': 'in', 'result_type': 're...</td>\n",
              "      <td>&lt;a href=\"https://dlvrit.com/\" rel=\"nofollow\"&gt;d...</td>\n",
              "      <td>NaN</td>\n",
              "      <td>NaN</td>\n",
              "      <td>NaN</td>\n",
              "      <td>NaN</td>\n",
              "      <td>None</td>\n",
              "      <td>{'id': 1124517245722349568, 'id_str': '1124517...</td>\n",
              "      <td>None</td>\n",
              "      <td>None</td>\n",
              "      <td>None</td>\n",
              "      <td>NaN</td>\n",
              "      <td>NaN</td>\n",
              "      <td>False</td>\n",
              "      <td>4</td>\n",
              "      <td>0</td>\n",
              "      <td>False</td>\n",
              "      <td>False</td>\n",
              "      <td>0.0</td>\n",
              "      <td>in</td>\n",
              "      <td>NaN</td>\n",
              "      <td>NaN</td>\n",
              "      <td>NaN</td>\n",
              "      <td>NaN</td>\n",
              "      <td>WahanaNews Official</td>\n",
              "      <td>wahananewsdotco</td>\n",
              "      <td>Jakarta</td>\n",
              "      <td>False</td>\n",
              "      <td>4996</td>\n",
              "      <td>4856</td>\n",
              "    </tr>\n",
              "    <tr>\n",
              "      <th>4</th>\n",
              "      <td>2021-12-10 08:46:16+00:00</td>\n",
              "      <td>1469226949612490753</td>\n",
              "      <td>1469226949612490752</td>\n",
              "      <td>️\\n\\n️\\n\\n️\\n\"ADUH!\"\\n\\nBarusan itu teriakan R...</td>\n",
              "      <td>False</td>\n",
              "      <td>[0, 268]</td>\n",
              "      <td>{'hashtags': [], 'symbols': [], 'user_mentions...</td>\n",
              "      <td>{'iso_language_code': 'in', 'result_type': 're...</td>\n",
              "      <td>&lt;a href=\"http://twitter.com/download/android\" ...</td>\n",
              "      <td>1.468893e+18</td>\n",
              "      <td>1.468893e+18</td>\n",
              "      <td>1.322664e+18</td>\n",
              "      <td>1.322664e+18</td>\n",
              "      <td>belamouvr</td>\n",
              "      <td>{'id': 1322663640034541568, 'id_str': '1322663...</td>\n",
              "      <td>None</td>\n",
              "      <td>None</td>\n",
              "      <td>None</td>\n",
              "      <td>NaN</td>\n",
              "      <td>NaN</td>\n",
              "      <td>False</td>\n",
              "      <td>0</td>\n",
              "      <td>0</td>\n",
              "      <td>False</td>\n",
              "      <td>False</td>\n",
              "      <td>NaN</td>\n",
              "      <td>in</td>\n",
              "      <td>NaN</td>\n",
              "      <td>NaN</td>\n",
              "      <td>NaN</td>\n",
              "      <td>NaN</td>\n",
              "      <td>Ratu.</td>\n",
              "      <td>belamouvr</td>\n",
              "      <td>JAKSEL + NSFW</td>\n",
              "      <td>False</td>\n",
              "      <td>176</td>\n",
              "      <td>243</td>\n",
              "    </tr>\n",
              "  </tbody>\n",
              "</table>\n",
              "</div>"
            ],
            "text/plain": [
              "                 created_at  ...  friends_count\n",
              "0 2021-12-10 08:52:24+00:00  ...           2436\n",
              "1 2021-12-10 08:52:06+00:00  ...           2512\n",
              "2 2021-12-10 08:49:32+00:00  ...           1899\n",
              "3 2021-12-10 08:49:02+00:00  ...           4856\n",
              "4 2021-12-10 08:46:16+00:00  ...            243\n",
              "\n",
              "[5 rows x 37 columns]"
            ]
          },
          "metadata": {},
          "execution_count": 15
        }
      ],
      "source": [
        "dataready = pd.concat([data, username], axis=1)\n",
        "dataready.head()"
      ]
    },
    {
      "cell_type": "code",
      "execution_count": null,
      "metadata": {
        "id": "ezl6dMIeAE0F",
        "colab": {
          "base_uri": "https://localhost:8080/"
        },
        "outputId": "404403ab-3f77-4856-953d-c32f83a30b22"
      },
      "outputs": [
        {
          "output_type": "execute_result",
          "data": {
            "text/plain": [
              "('baris = ', 15670, ' kolom = ', 37)"
            ]
          },
          "metadata": {},
          "execution_count": 16
        }
      ],
      "source": [
        "N, P = dataready.shape\n",
        "'baris = ', N, ' kolom = ', P"
      ]
    },
    {
      "cell_type": "code",
      "source": [
        "dataready.rename(columns={'full_text':'text'}, inplace=True)"
      ],
      "metadata": {
        "id": "ljw30tIJHTc4"
      },
      "execution_count": null,
      "outputs": []
    },
    {
      "cell_type": "markdown",
      "source": [
        "#PREPROCESSING"
      ],
      "metadata": {
        "id": "Cb9cXIfwfegQ"
      }
    },
    {
      "cell_type": "code",
      "source": [
        "dataready = ct.cleanningtext(data = dataready, both = True, onlyclean = False, sentiment = False)"
      ],
      "metadata": {
        "colab": {
          "base_uri": "https://localhost:8080/"
        },
        "id": "Y_Z3ZCmiH_hT",
        "outputId": "edec3b05-d3dc-46ae-aa17-b5cfe424b60f"
      },
      "execution_count": null,
      "outputs": [
        {
          "output_type": "stream",
          "name": "stdout",
          "text": [
            "Cleaning Text\n"
          ]
        },
        {
          "output_type": "stream",
          "name": "stderr",
          "text": [
            "100%|██████████| 15670/15670 [00:37<00:00, 414.46it/s]\n",
            "100%|██████████| 15670/15670 [00:00<00:00, 219566.99it/s]"
          ]
        },
        {
          "output_type": "stream",
          "name": "stdout",
          "text": [
            "37.99582052230835 seconds\n"
          ]
        },
        {
          "output_type": "stream",
          "name": "stderr",
          "text": [
            "\n"
          ]
        }
      ]
    },
    {
      "cell_type": "code",
      "source": [
        "dataready.keys()"
      ],
      "metadata": {
        "colab": {
          "base_uri": "https://localhost:8080/"
        },
        "id": "JPuy21yZIEtQ",
        "outputId": "04057b12-838f-4951-be74-73380335d9dc"
      },
      "execution_count": null,
      "outputs": [
        {
          "output_type": "execute_result",
          "data": {
            "text/plain": [
              "Index(['created_at', 'id', 'id_str', 'text', 'truncated', 'display_text_range',\n",
              "       'entities', 'metadata', 'source', 'in_reply_to_status_id',\n",
              "       'in_reply_to_status_id_str', 'in_reply_to_user_id',\n",
              "       'in_reply_to_user_id_str', 'in_reply_to_screen_name', 'user', 'geo',\n",
              "       'coordinates', 'place', 'contributors', 'retweeted_status',\n",
              "       'is_quote_status', 'retweet_count', 'favorite_count', 'favorited',\n",
              "       'retweeted', 'possibly_sensitive', 'lang', 'extended_entities',\n",
              "       'quoted_status_id', 'quoted_status_id_str', 'quoted_status', 'name',\n",
              "       'screen_name', 'location', 'verified', 'followers_count',\n",
              "       'friends_count', 'cleaned_text'],\n",
              "      dtype='object')"
            ]
          },
          "metadata": {},
          "execution_count": 19
        }
      ]
    },
    {
      "cell_type": "code",
      "source": [
        "dataready = dataready[['id', 'text', 'geo', 'coordinates', 'place', 'contributors', 'retweet_count', 'favorite_count', 'lang', 'name', 'screen_name', 'location', 'followers_count', 'friends_count', 'cleaned_text']]"
      ],
      "metadata": {
        "id": "6c24quIbsBn6"
      },
      "execution_count": null,
      "outputs": []
    },
    {
      "cell_type": "code",
      "source": [
        "!pip install unidecode textblob sastrawi\n",
        "!pip install unidecode twython tweepy beautifulsoup4 tika\n",
        "!pip install spacy python-crfsuite unidecode textblob sastrawi\n",
        "from twython import TwythonStreamer\n",
        "from bs4 import BeautifulSoup as bs\n",
        "from nltk.tokenize import TweetTokenizer\n",
        "from Sastrawi.StopWordRemover.StopWordRemoverFactory import StopWordRemoverFactory\n",
        "from Sastrawi.Stemmer.StemmerFactory import StemmerFactory\n",
        "\n",
        "nltk.download('popular')\n",
        "nltk.download('punkt')"
      ],
      "metadata": {
        "colab": {
          "base_uri": "https://localhost:8080/"
        },
        "id": "HVhP4Yc7UEwN",
        "outputId": "aced505a-267c-4c10-a725-f35abb2809a0"
      },
      "execution_count": null,
      "outputs": [
        {
          "output_type": "stream",
          "name": "stdout",
          "text": [
            "Requirement already satisfied: unidecode in /usr/local/lib/python3.7/dist-packages (1.3.2)\n",
            "Requirement already satisfied: textblob in /usr/local/lib/python3.7/dist-packages (0.15.3)\n",
            "Collecting sastrawi\n",
            "  Downloading Sastrawi-1.0.1-py2.py3-none-any.whl (209 kB)\n",
            "\u001b[K     |████████████████████████████████| 209 kB 4.9 MB/s \n",
            "\u001b[?25hRequirement already satisfied: nltk>=3.1 in /usr/local/lib/python3.7/dist-packages (from textblob) (3.2.5)\n",
            "Requirement already satisfied: six in /usr/local/lib/python3.7/dist-packages (from nltk>=3.1->textblob) (1.15.0)\n",
            "Installing collected packages: sastrawi\n",
            "Successfully installed sastrawi-1.0.1\n",
            "Requirement already satisfied: unidecode in /usr/local/lib/python3.7/dist-packages (1.3.2)\n",
            "Collecting twython\n",
            "  Downloading twython-3.9.1-py3-none-any.whl (33 kB)\n",
            "Requirement already satisfied: tweepy in /usr/local/lib/python3.7/dist-packages (3.10.0)\n",
            "Requirement already satisfied: beautifulsoup4 in /usr/local/lib/python3.7/dist-packages (4.6.3)\n",
            "Collecting tika\n",
            "  Downloading tika-1.24.tar.gz (28 kB)\n",
            "Requirement already satisfied: requests>=2.1.0 in /usr/local/lib/python3.7/dist-packages (from twython) (2.23.0)\n",
            "Requirement already satisfied: requests-oauthlib>=0.4.0 in /usr/local/lib/python3.7/dist-packages (from twython) (1.3.0)\n",
            "Requirement already satisfied: chardet<4,>=3.0.2 in /usr/local/lib/python3.7/dist-packages (from requests>=2.1.0->twython) (3.0.4)\n",
            "Requirement already satisfied: certifi>=2017.4.17 in /usr/local/lib/python3.7/dist-packages (from requests>=2.1.0->twython) (2021.10.8)\n",
            "Requirement already satisfied: urllib3!=1.25.0,!=1.25.1,<1.26,>=1.21.1 in /usr/local/lib/python3.7/dist-packages (from requests>=2.1.0->twython) (1.24.3)\n",
            "Requirement already satisfied: idna<3,>=2.5 in /usr/local/lib/python3.7/dist-packages (from requests>=2.1.0->twython) (2.10)\n",
            "Requirement already satisfied: oauthlib>=3.0.0 in /usr/local/lib/python3.7/dist-packages (from requests-oauthlib>=0.4.0->twython) (3.1.1)\n",
            "Requirement already satisfied: six>=1.10.0 in /usr/local/lib/python3.7/dist-packages (from tweepy) (1.15.0)\n",
            "Requirement already satisfied: PySocks!=1.5.7,>=1.5.6 in /usr/local/lib/python3.7/dist-packages (from requests>=2.1.0->twython) (1.7.1)\n",
            "Requirement already satisfied: setuptools in /usr/local/lib/python3.7/dist-packages (from tika) (57.4.0)\n",
            "Building wheels for collected packages: tika\n",
            "  Building wheel for tika (setup.py) ... \u001b[?25l\u001b[?25hdone\n",
            "  Created wheel for tika: filename=tika-1.24-py3-none-any.whl size=32891 sha256=30b136c846b46ca8990b9370dc73e619280462e72fcf851974e7ee3978dc0036\n",
            "  Stored in directory: /root/.cache/pip/wheels/ec/2b/38/58ff05467a742e32f67f5d0de048fa046e764e2fbb25ac93f3\n",
            "Successfully built tika\n",
            "Installing collected packages: twython, tika\n",
            "Successfully installed tika-1.24 twython-3.9.1\n",
            "Requirement already satisfied: spacy in /usr/local/lib/python3.7/dist-packages (2.2.4)\n",
            "Collecting python-crfsuite\n",
            "  Downloading python_crfsuite-0.9.7-cp37-cp37m-manylinux1_x86_64.whl (743 kB)\n",
            "\u001b[K     |████████████████████████████████| 743 kB 5.0 MB/s \n",
            "\u001b[?25hRequirement already satisfied: unidecode in /usr/local/lib/python3.7/dist-packages (1.3.2)\n",
            "Requirement already satisfied: textblob in /usr/local/lib/python3.7/dist-packages (0.15.3)\n",
            "Requirement already satisfied: sastrawi in /usr/local/lib/python3.7/dist-packages (1.0.1)\n",
            "Requirement already satisfied: thinc==7.4.0 in /usr/local/lib/python3.7/dist-packages (from spacy) (7.4.0)\n",
            "Requirement already satisfied: blis<0.5.0,>=0.4.0 in /usr/local/lib/python3.7/dist-packages (from spacy) (0.4.1)\n",
            "Requirement already satisfied: wasabi<1.1.0,>=0.4.0 in /usr/local/lib/python3.7/dist-packages (from spacy) (0.8.2)\n",
            "Requirement already satisfied: preshed<3.1.0,>=3.0.2 in /usr/local/lib/python3.7/dist-packages (from spacy) (3.0.6)\n",
            "Requirement already satisfied: plac<1.2.0,>=0.9.6 in /usr/local/lib/python3.7/dist-packages (from spacy) (1.1.3)\n",
            "Requirement already satisfied: catalogue<1.1.0,>=0.0.7 in /usr/local/lib/python3.7/dist-packages (from spacy) (1.0.0)\n",
            "Requirement already satisfied: numpy>=1.15.0 in /usr/local/lib/python3.7/dist-packages (from spacy) (1.19.5)\n",
            "Requirement already satisfied: srsly<1.1.0,>=1.0.2 in /usr/local/lib/python3.7/dist-packages (from spacy) (1.0.5)\n",
            "Requirement already satisfied: murmurhash<1.1.0,>=0.28.0 in /usr/local/lib/python3.7/dist-packages (from spacy) (1.0.6)\n",
            "Requirement already satisfied: cymem<2.1.0,>=2.0.2 in /usr/local/lib/python3.7/dist-packages (from spacy) (2.0.6)\n",
            "Requirement already satisfied: setuptools in /usr/local/lib/python3.7/dist-packages (from spacy) (57.4.0)\n",
            "Requirement already satisfied: tqdm<5.0.0,>=4.38.0 in /usr/local/lib/python3.7/dist-packages (from spacy) (4.62.3)\n",
            "Requirement already satisfied: requests<3.0.0,>=2.13.0 in /usr/local/lib/python3.7/dist-packages (from spacy) (2.23.0)\n",
            "Requirement already satisfied: importlib-metadata>=0.20 in /usr/local/lib/python3.7/dist-packages (from catalogue<1.1.0,>=0.0.7->spacy) (4.8.2)\n",
            "Requirement already satisfied: zipp>=0.5 in /usr/local/lib/python3.7/dist-packages (from importlib-metadata>=0.20->catalogue<1.1.0,>=0.0.7->spacy) (3.6.0)\n",
            "Requirement already satisfied: typing-extensions>=3.6.4 in /usr/local/lib/python3.7/dist-packages (from importlib-metadata>=0.20->catalogue<1.1.0,>=0.0.7->spacy) (3.10.0.2)\n",
            "Requirement already satisfied: urllib3!=1.25.0,!=1.25.1,<1.26,>=1.21.1 in /usr/local/lib/python3.7/dist-packages (from requests<3.0.0,>=2.13.0->spacy) (1.24.3)\n",
            "Requirement already satisfied: chardet<4,>=3.0.2 in /usr/local/lib/python3.7/dist-packages (from requests<3.0.0,>=2.13.0->spacy) (3.0.4)\n",
            "Requirement already satisfied: idna<3,>=2.5 in /usr/local/lib/python3.7/dist-packages (from requests<3.0.0,>=2.13.0->spacy) (2.10)\n",
            "Requirement already satisfied: certifi>=2017.4.17 in /usr/local/lib/python3.7/dist-packages (from requests<3.0.0,>=2.13.0->spacy) (2021.10.8)\n",
            "Requirement already satisfied: nltk>=3.1 in /usr/local/lib/python3.7/dist-packages (from textblob) (3.2.5)\n",
            "Requirement already satisfied: six in /usr/local/lib/python3.7/dist-packages (from nltk>=3.1->textblob) (1.15.0)\n",
            "Installing collected packages: python-crfsuite\n",
            "Successfully installed python-crfsuite-0.9.7\n",
            "[nltk_data] Downloading collection 'popular'\n",
            "[nltk_data]    | \n",
            "[nltk_data]    | Downloading package cmudict to /root/nltk_data...\n",
            "[nltk_data]    |   Unzipping corpora/cmudict.zip.\n",
            "[nltk_data]    | Downloading package gazetteers to /root/nltk_data...\n",
            "[nltk_data]    |   Unzipping corpora/gazetteers.zip.\n",
            "[nltk_data]    | Downloading package genesis to /root/nltk_data...\n",
            "[nltk_data]    |   Unzipping corpora/genesis.zip.\n",
            "[nltk_data]    | Downloading package gutenberg to /root/nltk_data...\n",
            "[nltk_data]    |   Unzipping corpora/gutenberg.zip.\n",
            "[nltk_data]    | Downloading package inaugural to /root/nltk_data...\n",
            "[nltk_data]    |   Unzipping corpora/inaugural.zip.\n",
            "[nltk_data]    | Downloading package movie_reviews to\n",
            "[nltk_data]    |     /root/nltk_data...\n",
            "[nltk_data]    |   Unzipping corpora/movie_reviews.zip.\n",
            "[nltk_data]    | Downloading package names to /root/nltk_data...\n",
            "[nltk_data]    |   Unzipping corpora/names.zip.\n",
            "[nltk_data]    | Downloading package shakespeare to /root/nltk_data...\n",
            "[nltk_data]    |   Unzipping corpora/shakespeare.zip.\n",
            "[nltk_data]    | Downloading package stopwords to /root/nltk_data...\n",
            "[nltk_data]    |   Unzipping corpora/stopwords.zip.\n",
            "[nltk_data]    | Downloading package treebank to /root/nltk_data...\n",
            "[nltk_data]    |   Unzipping corpora/treebank.zip.\n",
            "[nltk_data]    | Downloading package twitter_samples to\n",
            "[nltk_data]    |     /root/nltk_data...\n",
            "[nltk_data]    |   Unzipping corpora/twitter_samples.zip.\n",
            "[nltk_data]    | Downloading package omw-1.4 to /root/nltk_data...\n",
            "[nltk_data]    |   Unzipping corpora/omw-1.4.zip.\n",
            "[nltk_data]    | Downloading package omw to /root/nltk_data...\n",
            "[nltk_data]    |   Unzipping corpora/omw.zip.\n",
            "[nltk_data]    | Downloading package wordnet to /root/nltk_data...\n",
            "[nltk_data]    |   Unzipping corpora/wordnet.zip.\n",
            "[nltk_data]    | Downloading package wordnet31 to /root/nltk_data...\n",
            "[nltk_data]    |   Unzipping corpora/wordnet31.zip.\n",
            "[nltk_data]    | Downloading package wordnet_ic to /root/nltk_data...\n",
            "[nltk_data]    |   Unzipping corpora/wordnet_ic.zip.\n",
            "[nltk_data]    | Downloading package words to /root/nltk_data...\n",
            "[nltk_data]    |   Unzipping corpora/words.zip.\n",
            "[nltk_data]    | Downloading package maxent_ne_chunker to\n",
            "[nltk_data]    |     /root/nltk_data...\n",
            "[nltk_data]    |   Unzipping chunkers/maxent_ne_chunker.zip.\n",
            "[nltk_data]    | Downloading package punkt to /root/nltk_data...\n",
            "[nltk_data]    |   Package punkt is already up-to-date!\n",
            "[nltk_data]    | Downloading package snowball_data to\n",
            "[nltk_data]    |     /root/nltk_data...\n",
            "[nltk_data]    | Downloading package averaged_perceptron_tagger to\n",
            "[nltk_data]    |     /root/nltk_data...\n",
            "[nltk_data]    |   Unzipping taggers/averaged_perceptron_tagger.zip.\n",
            "[nltk_data]    | \n",
            "[nltk_data]  Done downloading collection popular\n",
            "[nltk_data] Downloading package punkt to /root/nltk_data...\n",
            "[nltk_data]   Package punkt is already up-to-date!\n"
          ]
        },
        {
          "output_type": "execute_result",
          "data": {
            "text/plain": [
              "True"
            ]
          },
          "metadata": {},
          "execution_count": 21
        }
      ]
    },
    {
      "cell_type": "code",
      "source": [
        "import re\n",
        "def clean_tweet(tweet):\n",
        "    if type(tweet) == np.float:\n",
        "        return \"\"\n",
        "    temp = tweet.lower()\n",
        "    temp = re.sub(\"@[A-Za-z0-9_]+\",\"\", temp)\n",
        "    temp = re.sub(\"#[A-Za-z0-9_]+\",\"\", temp)\n",
        "    temp = re.sub(r'http\\S+', '', temp)\n",
        "    temp = re.sub('[()!?]', ' ', temp)\n",
        "    temp = re.sub('\\[.*?\\]',' ', temp)\n",
        "    temp = re.sub(\"[^a-z0-9]\",\" \", temp)\n",
        "    temp = re.sub\n",
        "    return temp"
      ],
      "metadata": {
        "id": "h6cfaHODUzNH"
      },
      "execution_count": null,
      "outputs": []
    },
    {
      "cell_type": "code",
      "source": [
        "dataready['clean'] = dataready['text'].apply(lambda x: clean_tweet(x))\n",
        "dataready.head()"
      ],
      "metadata": {
        "colab": {
          "base_uri": "https://localhost:8080/",
          "height": 538
        },
        "id": "7EGJoOu5U2-x",
        "outputId": "d7759188-9db1-4e2b-bdd9-794a21417fbc"
      },
      "execution_count": null,
      "outputs": [
        {
          "output_type": "execute_result",
          "data": {
            "text/html": [
              "<div>\n",
              "<style scoped>\n",
              "    .dataframe tbody tr th:only-of-type {\n",
              "        vertical-align: middle;\n",
              "    }\n",
              "\n",
              "    .dataframe tbody tr th {\n",
              "        vertical-align: top;\n",
              "    }\n",
              "\n",
              "    .dataframe thead th {\n",
              "        text-align: right;\n",
              "    }\n",
              "</style>\n",
              "<table border=\"1\" class=\"dataframe\">\n",
              "  <thead>\n",
              "    <tr style=\"text-align: right;\">\n",
              "      <th></th>\n",
              "      <th>id</th>\n",
              "      <th>text</th>\n",
              "      <th>geo</th>\n",
              "      <th>coordinates</th>\n",
              "      <th>place</th>\n",
              "      <th>contributors</th>\n",
              "      <th>retweet_count</th>\n",
              "      <th>favorite_count</th>\n",
              "      <th>lang</th>\n",
              "      <th>name</th>\n",
              "      <th>screen_name</th>\n",
              "      <th>location</th>\n",
              "      <th>followers_count</th>\n",
              "      <th>friends_count</th>\n",
              "      <th>cleaned_text</th>\n",
              "      <th>clean</th>\n",
              "    </tr>\n",
              "  </thead>\n",
              "  <tbody>\n",
              "    <tr>\n",
              "      <th>0</th>\n",
              "      <td>1469228494202626053</td>\n",
              "      <td>rt @kumparan: pohon dengan ketinggian 10 meter...</td>\n",
              "      <td>None</td>\n",
              "      <td>None</td>\n",
              "      <td>None</td>\n",
              "      <td>NaN</td>\n",
              "      <td>1</td>\n",
              "      <td>0</td>\n",
              "      <td>in</td>\n",
              "      <td>GIGIEN GERHANA 🌕</td>\n",
              "      <td>gigien_g</td>\n",
              "      <td>Bandung City - Indonesia🌄</td>\n",
              "      <td>83</td>\n",
              "      <td>2436</td>\n",
              "      <td>pohon ketinggian meter menimpa pengendara vesp...</td>\n",
              "      <td>&lt;function sub at 0x7fafb11568c0&gt;</td>\n",
              "    </tr>\n",
              "    <tr>\n",
              "      <th>1</th>\n",
              "      <td>1469228418709397504</td>\n",
              "      <td>rt @wahananewsdotco: angin kencang acak-acak 2...</td>\n",
              "      <td>None</td>\n",
              "      <td>None</td>\n",
              "      <td>None</td>\n",
              "      <td>NaN</td>\n",
              "      <td>4</td>\n",
              "      <td>0</td>\n",
              "      <td>in</td>\n",
              "      <td>Gibera Kata</td>\n",
              "      <td>giberakata</td>\n",
              "      <td></td>\n",
              "      <td>2294</td>\n",
              "      <td>2512</td>\n",
              "      <td>angin kencang acak acak rumah sorong papua</td>\n",
              "      <td>&lt;function sub at 0x7fafb11568c0&gt;</td>\n",
              "    </tr>\n",
              "    <tr>\n",
              "      <th>2</th>\n",
              "      <td>1469227773176598530</td>\n",
              "      <td>rt @wahananewsdotco: angin kencang acak-acak 2...</td>\n",
              "      <td>None</td>\n",
              "      <td>None</td>\n",
              "      <td>None</td>\n",
              "      <td>NaN</td>\n",
              "      <td>4</td>\n",
              "      <td>0</td>\n",
              "      <td>in</td>\n",
              "      <td>Jejak Literasi</td>\n",
              "      <td>Jelita2020</td>\n",
              "      <td>West Java</td>\n",
              "      <td>1764</td>\n",
              "      <td>1899</td>\n",
              "      <td>angin kencang acak acak rumah sorong papua</td>\n",
              "      <td>&lt;function sub at 0x7fafb11568c0&gt;</td>\n",
              "    </tr>\n",
              "    <tr>\n",
              "      <th>3</th>\n",
              "      <td>1469227647263596544</td>\n",
              "      <td>angin kencang acak-acak 28 rumah di sorong pap...</td>\n",
              "      <td>None</td>\n",
              "      <td>None</td>\n",
              "      <td>None</td>\n",
              "      <td>NaN</td>\n",
              "      <td>4</td>\n",
              "      <td>0</td>\n",
              "      <td>in</td>\n",
              "      <td>WahanaNews Official</td>\n",
              "      <td>wahananewsdotco</td>\n",
              "      <td>Jakarta</td>\n",
              "      <td>4996</td>\n",
              "      <td>4856</td>\n",
              "      <td>angin kencang acak acak rumah sorong papua</td>\n",
              "      <td>&lt;function sub at 0x7fafb11568c0&gt;</td>\n",
              "    </tr>\n",
              "    <tr>\n",
              "      <th>4</th>\n",
              "      <td>1469226949612490753</td>\n",
              "      <td>️\\n\\n️\\n\\n️\\n\"aduh!\"\\n\\nbarusan itu teriakan r...</td>\n",
              "      <td>None</td>\n",
              "      <td>None</td>\n",
              "      <td>None</td>\n",
              "      <td>NaN</td>\n",
              "      <td>0</td>\n",
              "      <td>0</td>\n",
              "      <td>in</td>\n",
              "      <td>Ratu.</td>\n",
              "      <td>belamouvr</td>\n",
              "      <td>JAKSEL + NSFW</td>\n",
              "      <td>176</td>\n",
              "      <td>243</td>\n",
              "      <td>barusan teriakan ratu matanya kelilipan rambu...</td>\n",
              "      <td>&lt;function sub at 0x7fafb11568c0&gt;</td>\n",
              "    </tr>\n",
              "  </tbody>\n",
              "</table>\n",
              "</div>"
            ],
            "text/plain": [
              "                    id  ...                             clean\n",
              "0  1469228494202626053  ...  <function sub at 0x7fafb11568c0>\n",
              "1  1469228418709397504  ...  <function sub at 0x7fafb11568c0>\n",
              "2  1469227773176598530  ...  <function sub at 0x7fafb11568c0>\n",
              "3  1469227647263596544  ...  <function sub at 0x7fafb11568c0>\n",
              "4  1469226949612490753  ...  <function sub at 0x7fafb11568c0>\n",
              "\n",
              "[5 rows x 16 columns]"
            ]
          },
          "metadata": {},
          "execution_count": 23
        }
      ]
    },
    {
      "cell_type": "code",
      "source": [
        "Tokenizer = TweetTokenizer(strip_handles=True, reduce_len=True)\n",
        "\n",
        "def tokenization(text):\n",
        "    teks= Tokenizer.tokenize(text)\n",
        "    return teks\n",
        "\n",
        "dataready['tokenized'] = dataready['cleaned_text'].apply(lambda x: tokenization(x))\n",
        "dataready.head()"
      ],
      "metadata": {
        "colab": {
          "base_uri": "https://localhost:8080/",
          "height": 591
        },
        "id": "WjZTJ3HzTmjR",
        "outputId": "7066a69d-2d5c-45e5-c52c-f94f3b168e5b"
      },
      "execution_count": null,
      "outputs": [
        {
          "output_type": "execute_result",
          "data": {
            "text/html": [
              "<div>\n",
              "<style scoped>\n",
              "    .dataframe tbody tr th:only-of-type {\n",
              "        vertical-align: middle;\n",
              "    }\n",
              "\n",
              "    .dataframe tbody tr th {\n",
              "        vertical-align: top;\n",
              "    }\n",
              "\n",
              "    .dataframe thead th {\n",
              "        text-align: right;\n",
              "    }\n",
              "</style>\n",
              "<table border=\"1\" class=\"dataframe\">\n",
              "  <thead>\n",
              "    <tr style=\"text-align: right;\">\n",
              "      <th></th>\n",
              "      <th>id</th>\n",
              "      <th>text</th>\n",
              "      <th>geo</th>\n",
              "      <th>coordinates</th>\n",
              "      <th>place</th>\n",
              "      <th>contributors</th>\n",
              "      <th>retweet_count</th>\n",
              "      <th>favorite_count</th>\n",
              "      <th>lang</th>\n",
              "      <th>name</th>\n",
              "      <th>screen_name</th>\n",
              "      <th>location</th>\n",
              "      <th>followers_count</th>\n",
              "      <th>friends_count</th>\n",
              "      <th>cleaned_text</th>\n",
              "      <th>clean</th>\n",
              "      <th>tokenized</th>\n",
              "    </tr>\n",
              "  </thead>\n",
              "  <tbody>\n",
              "    <tr>\n",
              "      <th>0</th>\n",
              "      <td>1469228494202626053</td>\n",
              "      <td>rt @kumparan: pohon dengan ketinggian 10 meter...</td>\n",
              "      <td>None</td>\n",
              "      <td>None</td>\n",
              "      <td>None</td>\n",
              "      <td>NaN</td>\n",
              "      <td>1</td>\n",
              "      <td>0</td>\n",
              "      <td>in</td>\n",
              "      <td>GIGIEN GERHANA 🌕</td>\n",
              "      <td>gigien_g</td>\n",
              "      <td>Bandung City - Indonesia🌄</td>\n",
              "      <td>83</td>\n",
              "      <td>2436</td>\n",
              "      <td>pohon ketinggian meter menimpa pengendara vesp...</td>\n",
              "      <td>&lt;function sub at 0x7fafb11568c0&gt;</td>\n",
              "      <td>[pohon, ketinggian, meter, menimpa, pengendara...</td>\n",
              "    </tr>\n",
              "    <tr>\n",
              "      <th>1</th>\n",
              "      <td>1469228418709397504</td>\n",
              "      <td>rt @wahananewsdotco: angin kencang acak-acak 2...</td>\n",
              "      <td>None</td>\n",
              "      <td>None</td>\n",
              "      <td>None</td>\n",
              "      <td>NaN</td>\n",
              "      <td>4</td>\n",
              "      <td>0</td>\n",
              "      <td>in</td>\n",
              "      <td>Gibera Kata</td>\n",
              "      <td>giberakata</td>\n",
              "      <td></td>\n",
              "      <td>2294</td>\n",
              "      <td>2512</td>\n",
              "      <td>angin kencang acak acak rumah sorong papua</td>\n",
              "      <td>&lt;function sub at 0x7fafb11568c0&gt;</td>\n",
              "      <td>[angin, kencang, acak, acak, rumah, sorong, pa...</td>\n",
              "    </tr>\n",
              "    <tr>\n",
              "      <th>2</th>\n",
              "      <td>1469227773176598530</td>\n",
              "      <td>rt @wahananewsdotco: angin kencang acak-acak 2...</td>\n",
              "      <td>None</td>\n",
              "      <td>None</td>\n",
              "      <td>None</td>\n",
              "      <td>NaN</td>\n",
              "      <td>4</td>\n",
              "      <td>0</td>\n",
              "      <td>in</td>\n",
              "      <td>Jejak Literasi</td>\n",
              "      <td>Jelita2020</td>\n",
              "      <td>West Java</td>\n",
              "      <td>1764</td>\n",
              "      <td>1899</td>\n",
              "      <td>angin kencang acak acak rumah sorong papua</td>\n",
              "      <td>&lt;function sub at 0x7fafb11568c0&gt;</td>\n",
              "      <td>[angin, kencang, acak, acak, rumah, sorong, pa...</td>\n",
              "    </tr>\n",
              "    <tr>\n",
              "      <th>3</th>\n",
              "      <td>1469227647263596544</td>\n",
              "      <td>angin kencang acak-acak 28 rumah di sorong pap...</td>\n",
              "      <td>None</td>\n",
              "      <td>None</td>\n",
              "      <td>None</td>\n",
              "      <td>NaN</td>\n",
              "      <td>4</td>\n",
              "      <td>0</td>\n",
              "      <td>in</td>\n",
              "      <td>WahanaNews Official</td>\n",
              "      <td>wahananewsdotco</td>\n",
              "      <td>Jakarta</td>\n",
              "      <td>4996</td>\n",
              "      <td>4856</td>\n",
              "      <td>angin kencang acak acak rumah sorong papua</td>\n",
              "      <td>&lt;function sub at 0x7fafb11568c0&gt;</td>\n",
              "      <td>[angin, kencang, acak, acak, rumah, sorong, pa...</td>\n",
              "    </tr>\n",
              "    <tr>\n",
              "      <th>4</th>\n",
              "      <td>1469226949612490753</td>\n",
              "      <td>️\\n\\n️\\n\\n️\\n\"aduh!\"\\n\\nbarusan itu teriakan r...</td>\n",
              "      <td>None</td>\n",
              "      <td>None</td>\n",
              "      <td>None</td>\n",
              "      <td>NaN</td>\n",
              "      <td>0</td>\n",
              "      <td>0</td>\n",
              "      <td>in</td>\n",
              "      <td>Ratu.</td>\n",
              "      <td>belamouvr</td>\n",
              "      <td>JAKSEL + NSFW</td>\n",
              "      <td>176</td>\n",
              "      <td>243</td>\n",
              "      <td>barusan teriakan ratu matanya kelilipan rambu...</td>\n",
              "      <td>&lt;function sub at 0x7fafb11568c0&gt;</td>\n",
              "      <td>[barusan, teriakan, ratu, matanya, kelilipan, ...</td>\n",
              "    </tr>\n",
              "  </tbody>\n",
              "</table>\n",
              "</div>"
            ],
            "text/plain": [
              "                    id  ...                                          tokenized\n",
              "0  1469228494202626053  ...  [pohon, ketinggian, meter, menimpa, pengendara...\n",
              "1  1469228418709397504  ...  [angin, kencang, acak, acak, rumah, sorong, pa...\n",
              "2  1469227773176598530  ...  [angin, kencang, acak, acak, rumah, sorong, pa...\n",
              "3  1469227647263596544  ...  [angin, kencang, acak, acak, rumah, sorong, pa...\n",
              "4  1469226949612490753  ...  [barusan, teriakan, ratu, matanya, kelilipan, ...\n",
              "\n",
              "[5 rows x 17 columns]"
            ]
          },
          "metadata": {},
          "execution_count": 24
        }
      ]
    },
    {
      "cell_type": "code",
      "source": [
        "factory = StopWordRemoverFactory()\n",
        "\n",
        "Sastrawi_StopWords_id = factory.get_stop_words()\n",
        "\n",
        "stopword = Sastrawi_StopWords_id + ['rt']\n",
        "\n",
        "print(stopword)"
      ],
      "metadata": {
        "colab": {
          "base_uri": "https://localhost:8080/"
        },
        "id": "C4BsoL3ST2fa",
        "outputId": "9050aba1-8cf9-477e-c33a-8044bb806ee3"
      },
      "execution_count": null,
      "outputs": [
        {
          "output_type": "stream",
          "name": "stdout",
          "text": [
            "['yang', 'untuk', 'pada', 'ke', 'para', 'namun', 'menurut', 'antara', 'dia', 'dua', 'ia', 'seperti', 'jika', 'jika', 'sehingga', 'kembali', 'dan', 'tidak', 'ini', 'karena', 'kepada', 'oleh', 'saat', 'harus', 'sementara', 'setelah', 'belum', 'kami', 'sekitar', 'bagi', 'serta', 'di', 'dari', 'telah', 'sebagai', 'masih', 'hal', 'ketika', 'adalah', 'itu', 'dalam', 'bisa', 'bahwa', 'atau', 'hanya', 'kita', 'dengan', 'akan', 'juga', 'ada', 'mereka', 'sudah', 'saya', 'terhadap', 'secara', 'agar', 'lain', 'anda', 'begitu', 'mengapa', 'kenapa', 'yaitu', 'yakni', 'daripada', 'itulah', 'lagi', 'maka', 'tentang', 'demi', 'dimana', 'kemana', 'pula', 'sambil', 'sebelum', 'sesudah', 'supaya', 'guna', 'kah', 'pun', 'sampai', 'sedangkan', 'selagi', 'sementara', 'tetapi', 'apakah', 'kecuali', 'sebab', 'selain', 'seolah', 'seraya', 'seterusnya', 'tanpa', 'agak', 'boleh', 'dapat', 'dsb', 'dst', 'dll', 'dahulu', 'dulunya', 'anu', 'demikian', 'tapi', 'ingin', 'juga', 'nggak', 'mari', 'nanti', 'melainkan', 'oh', 'ok', 'seharusnya', 'sebetulnya', 'setiap', 'setidaknya', 'sesuatu', 'pasti', 'saja', 'toh', 'ya', 'walau', 'tolong', 'tentu', 'amat', 'apalagi', 'bagaimanapun', 'rt']\n"
          ]
        }
      ]
    },
    {
      "cell_type": "code",
      "source": [
        "def remove_stopwords(text):\n",
        "    text = [word for word in text if word not in stopword]\n",
        "    return text\n",
        "    \n",
        "dataready['stopword_remove'] = dataready['tokenized'].apply(lambda x: remove_stopwords(x))\n",
        "dataready.head()"
      ],
      "metadata": {
        "colab": {
          "base_uri": "https://localhost:8080/",
          "height": 591
        },
        "id": "221c63CMVi1K",
        "outputId": "ae12028c-94d4-437f-c141-cded0b093206"
      },
      "execution_count": null,
      "outputs": [
        {
          "output_type": "execute_result",
          "data": {
            "text/html": [
              "<div>\n",
              "<style scoped>\n",
              "    .dataframe tbody tr th:only-of-type {\n",
              "        vertical-align: middle;\n",
              "    }\n",
              "\n",
              "    .dataframe tbody tr th {\n",
              "        vertical-align: top;\n",
              "    }\n",
              "\n",
              "    .dataframe thead th {\n",
              "        text-align: right;\n",
              "    }\n",
              "</style>\n",
              "<table border=\"1\" class=\"dataframe\">\n",
              "  <thead>\n",
              "    <tr style=\"text-align: right;\">\n",
              "      <th></th>\n",
              "      <th>id</th>\n",
              "      <th>text</th>\n",
              "      <th>geo</th>\n",
              "      <th>coordinates</th>\n",
              "      <th>place</th>\n",
              "      <th>contributors</th>\n",
              "      <th>retweet_count</th>\n",
              "      <th>favorite_count</th>\n",
              "      <th>lang</th>\n",
              "      <th>name</th>\n",
              "      <th>screen_name</th>\n",
              "      <th>location</th>\n",
              "      <th>followers_count</th>\n",
              "      <th>friends_count</th>\n",
              "      <th>cleaned_text</th>\n",
              "      <th>clean</th>\n",
              "      <th>tokenized</th>\n",
              "      <th>stopword_remove</th>\n",
              "    </tr>\n",
              "  </thead>\n",
              "  <tbody>\n",
              "    <tr>\n",
              "      <th>0</th>\n",
              "      <td>1469228494202626053</td>\n",
              "      <td>rt @kumparan: pohon dengan ketinggian 10 meter...</td>\n",
              "      <td>None</td>\n",
              "      <td>None</td>\n",
              "      <td>None</td>\n",
              "      <td>NaN</td>\n",
              "      <td>1</td>\n",
              "      <td>0</td>\n",
              "      <td>in</td>\n",
              "      <td>GIGIEN GERHANA 🌕</td>\n",
              "      <td>gigien_g</td>\n",
              "      <td>Bandung City - Indonesia🌄</td>\n",
              "      <td>83</td>\n",
              "      <td>2436</td>\n",
              "      <td>pohon ketinggian meter menimpa pengendara vesp...</td>\n",
              "      <td>&lt;function sub at 0x7fafb11568c0&gt;</td>\n",
              "      <td>[pohon, ketinggian, meter, menimpa, pengendara...</td>\n",
              "      <td>[pohon, ketinggian, meter, menimpa, pengendara...</td>\n",
              "    </tr>\n",
              "    <tr>\n",
              "      <th>1</th>\n",
              "      <td>1469228418709397504</td>\n",
              "      <td>rt @wahananewsdotco: angin kencang acak-acak 2...</td>\n",
              "      <td>None</td>\n",
              "      <td>None</td>\n",
              "      <td>None</td>\n",
              "      <td>NaN</td>\n",
              "      <td>4</td>\n",
              "      <td>0</td>\n",
              "      <td>in</td>\n",
              "      <td>Gibera Kata</td>\n",
              "      <td>giberakata</td>\n",
              "      <td></td>\n",
              "      <td>2294</td>\n",
              "      <td>2512</td>\n",
              "      <td>angin kencang acak acak rumah sorong papua</td>\n",
              "      <td>&lt;function sub at 0x7fafb11568c0&gt;</td>\n",
              "      <td>[angin, kencang, acak, acak, rumah, sorong, pa...</td>\n",
              "      <td>[angin, kencang, acak, acak, rumah, sorong, pa...</td>\n",
              "    </tr>\n",
              "    <tr>\n",
              "      <th>2</th>\n",
              "      <td>1469227773176598530</td>\n",
              "      <td>rt @wahananewsdotco: angin kencang acak-acak 2...</td>\n",
              "      <td>None</td>\n",
              "      <td>None</td>\n",
              "      <td>None</td>\n",
              "      <td>NaN</td>\n",
              "      <td>4</td>\n",
              "      <td>0</td>\n",
              "      <td>in</td>\n",
              "      <td>Jejak Literasi</td>\n",
              "      <td>Jelita2020</td>\n",
              "      <td>West Java</td>\n",
              "      <td>1764</td>\n",
              "      <td>1899</td>\n",
              "      <td>angin kencang acak acak rumah sorong papua</td>\n",
              "      <td>&lt;function sub at 0x7fafb11568c0&gt;</td>\n",
              "      <td>[angin, kencang, acak, acak, rumah, sorong, pa...</td>\n",
              "      <td>[angin, kencang, acak, acak, rumah, sorong, pa...</td>\n",
              "    </tr>\n",
              "    <tr>\n",
              "      <th>3</th>\n",
              "      <td>1469227647263596544</td>\n",
              "      <td>angin kencang acak-acak 28 rumah di sorong pap...</td>\n",
              "      <td>None</td>\n",
              "      <td>None</td>\n",
              "      <td>None</td>\n",
              "      <td>NaN</td>\n",
              "      <td>4</td>\n",
              "      <td>0</td>\n",
              "      <td>in</td>\n",
              "      <td>WahanaNews Official</td>\n",
              "      <td>wahananewsdotco</td>\n",
              "      <td>Jakarta</td>\n",
              "      <td>4996</td>\n",
              "      <td>4856</td>\n",
              "      <td>angin kencang acak acak rumah sorong papua</td>\n",
              "      <td>&lt;function sub at 0x7fafb11568c0&gt;</td>\n",
              "      <td>[angin, kencang, acak, acak, rumah, sorong, pa...</td>\n",
              "      <td>[angin, kencang, acak, acak, rumah, sorong, pa...</td>\n",
              "    </tr>\n",
              "    <tr>\n",
              "      <th>4</th>\n",
              "      <td>1469226949612490753</td>\n",
              "      <td>️\\n\\n️\\n\\n️\\n\"aduh!\"\\n\\nbarusan itu teriakan r...</td>\n",
              "      <td>None</td>\n",
              "      <td>None</td>\n",
              "      <td>None</td>\n",
              "      <td>NaN</td>\n",
              "      <td>0</td>\n",
              "      <td>0</td>\n",
              "      <td>in</td>\n",
              "      <td>Ratu.</td>\n",
              "      <td>belamouvr</td>\n",
              "      <td>JAKSEL + NSFW</td>\n",
              "      <td>176</td>\n",
              "      <td>243</td>\n",
              "      <td>barusan teriakan ratu matanya kelilipan rambu...</td>\n",
              "      <td>&lt;function sub at 0x7fafb11568c0&gt;</td>\n",
              "      <td>[barusan, teriakan, ratu, matanya, kelilipan, ...</td>\n",
              "      <td>[barusan, teriakan, ratu, matanya, kelilipan, ...</td>\n",
              "    </tr>\n",
              "  </tbody>\n",
              "</table>\n",
              "</div>"
            ],
            "text/plain": [
              "                    id  ...                                    stopword_remove\n",
              "0  1469228494202626053  ...  [pohon, ketinggian, meter, menimpa, pengendara...\n",
              "1  1469228418709397504  ...  [angin, kencang, acak, acak, rumah, sorong, pa...\n",
              "2  1469227773176598530  ...  [angin, kencang, acak, acak, rumah, sorong, pa...\n",
              "3  1469227647263596544  ...  [angin, kencang, acak, acak, rumah, sorong, pa...\n",
              "4  1469226949612490753  ...  [barusan, teriakan, ratu, matanya, kelilipan, ...\n",
              "\n",
              "[5 rows x 18 columns]"
            ]
          },
          "metadata": {},
          "execution_count": 26
        }
      ]
    },
    {
      "cell_type": "code",
      "source": [
        "stemmer = StemmerFactory().create_stemmer()\n",
        "\n",
        "def stemming(text):\n",
        "    text = [stemmer.stem(word) for word in text]\n",
        "    return text\n",
        "\n",
        "dataready['stemmed'] = dataready['stopword_remove'].apply(lambda x: stemming(x))\n",
        "dataready.head()"
      ],
      "metadata": {
        "colab": {
          "base_uri": "https://localhost:8080/",
          "height": 712
        },
        "id": "gQyZgyZ4WJfN",
        "outputId": "24da92c0-b0f1-4705-9aa7-3ccd21b80127"
      },
      "execution_count": null,
      "outputs": [
        {
          "output_type": "execute_result",
          "data": {
            "text/html": [
              "<div>\n",
              "<style scoped>\n",
              "    .dataframe tbody tr th:only-of-type {\n",
              "        vertical-align: middle;\n",
              "    }\n",
              "\n",
              "    .dataframe tbody tr th {\n",
              "        vertical-align: top;\n",
              "    }\n",
              "\n",
              "    .dataframe thead th {\n",
              "        text-align: right;\n",
              "    }\n",
              "</style>\n",
              "<table border=\"1\" class=\"dataframe\">\n",
              "  <thead>\n",
              "    <tr style=\"text-align: right;\">\n",
              "      <th></th>\n",
              "      <th>id</th>\n",
              "      <th>text</th>\n",
              "      <th>geo</th>\n",
              "      <th>coordinates</th>\n",
              "      <th>place</th>\n",
              "      <th>contributors</th>\n",
              "      <th>retweet_count</th>\n",
              "      <th>favorite_count</th>\n",
              "      <th>lang</th>\n",
              "      <th>name</th>\n",
              "      <th>screen_name</th>\n",
              "      <th>location</th>\n",
              "      <th>followers_count</th>\n",
              "      <th>friends_count</th>\n",
              "      <th>cleaned_text</th>\n",
              "      <th>clean</th>\n",
              "      <th>tokenized</th>\n",
              "      <th>stopword_remove</th>\n",
              "      <th>stemmed</th>\n",
              "    </tr>\n",
              "  </thead>\n",
              "  <tbody>\n",
              "    <tr>\n",
              "      <th>0</th>\n",
              "      <td>1469228494202626053</td>\n",
              "      <td>rt @kumparan: pohon dengan ketinggian 10 meter...</td>\n",
              "      <td>None</td>\n",
              "      <td>None</td>\n",
              "      <td>None</td>\n",
              "      <td>NaN</td>\n",
              "      <td>1</td>\n",
              "      <td>0</td>\n",
              "      <td>in</td>\n",
              "      <td>GIGIEN GERHANA 🌕</td>\n",
              "      <td>gigien_g</td>\n",
              "      <td>Bandung City - Indonesia🌄</td>\n",
              "      <td>83</td>\n",
              "      <td>2436</td>\n",
              "      <td>pohon ketinggian meter menimpa pengendara vesp...</td>\n",
              "      <td>&lt;function sub at 0x7fafb11568c0&gt;</td>\n",
              "      <td>[pohon, ketinggian, meter, menimpa, pengendara...</td>\n",
              "      <td>[pohon, ketinggian, meter, menimpa, pengendara...</td>\n",
              "      <td>[pohon, tinggi, meter, timpa, kendara, vespa, ...</td>\n",
              "    </tr>\n",
              "    <tr>\n",
              "      <th>1</th>\n",
              "      <td>1469228418709397504</td>\n",
              "      <td>rt @wahananewsdotco: angin kencang acak-acak 2...</td>\n",
              "      <td>None</td>\n",
              "      <td>None</td>\n",
              "      <td>None</td>\n",
              "      <td>NaN</td>\n",
              "      <td>4</td>\n",
              "      <td>0</td>\n",
              "      <td>in</td>\n",
              "      <td>Gibera Kata</td>\n",
              "      <td>giberakata</td>\n",
              "      <td></td>\n",
              "      <td>2294</td>\n",
              "      <td>2512</td>\n",
              "      <td>angin kencang acak acak rumah sorong papua</td>\n",
              "      <td>&lt;function sub at 0x7fafb11568c0&gt;</td>\n",
              "      <td>[angin, kencang, acak, acak, rumah, sorong, pa...</td>\n",
              "      <td>[angin, kencang, acak, acak, rumah, sorong, pa...</td>\n",
              "      <td>[angin, kencang, acak, acak, rumah, sorong, pa...</td>\n",
              "    </tr>\n",
              "    <tr>\n",
              "      <th>2</th>\n",
              "      <td>1469227773176598530</td>\n",
              "      <td>rt @wahananewsdotco: angin kencang acak-acak 2...</td>\n",
              "      <td>None</td>\n",
              "      <td>None</td>\n",
              "      <td>None</td>\n",
              "      <td>NaN</td>\n",
              "      <td>4</td>\n",
              "      <td>0</td>\n",
              "      <td>in</td>\n",
              "      <td>Jejak Literasi</td>\n",
              "      <td>Jelita2020</td>\n",
              "      <td>West Java</td>\n",
              "      <td>1764</td>\n",
              "      <td>1899</td>\n",
              "      <td>angin kencang acak acak rumah sorong papua</td>\n",
              "      <td>&lt;function sub at 0x7fafb11568c0&gt;</td>\n",
              "      <td>[angin, kencang, acak, acak, rumah, sorong, pa...</td>\n",
              "      <td>[angin, kencang, acak, acak, rumah, sorong, pa...</td>\n",
              "      <td>[angin, kencang, acak, acak, rumah, sorong, pa...</td>\n",
              "    </tr>\n",
              "    <tr>\n",
              "      <th>3</th>\n",
              "      <td>1469227647263596544</td>\n",
              "      <td>angin kencang acak-acak 28 rumah di sorong pap...</td>\n",
              "      <td>None</td>\n",
              "      <td>None</td>\n",
              "      <td>None</td>\n",
              "      <td>NaN</td>\n",
              "      <td>4</td>\n",
              "      <td>0</td>\n",
              "      <td>in</td>\n",
              "      <td>WahanaNews Official</td>\n",
              "      <td>wahananewsdotco</td>\n",
              "      <td>Jakarta</td>\n",
              "      <td>4996</td>\n",
              "      <td>4856</td>\n",
              "      <td>angin kencang acak acak rumah sorong papua</td>\n",
              "      <td>&lt;function sub at 0x7fafb11568c0&gt;</td>\n",
              "      <td>[angin, kencang, acak, acak, rumah, sorong, pa...</td>\n",
              "      <td>[angin, kencang, acak, acak, rumah, sorong, pa...</td>\n",
              "      <td>[angin, kencang, acak, acak, rumah, sorong, pa...</td>\n",
              "    </tr>\n",
              "    <tr>\n",
              "      <th>4</th>\n",
              "      <td>1469226949612490753</td>\n",
              "      <td>️\\n\\n️\\n\\n️\\n\"aduh!\"\\n\\nbarusan itu teriakan r...</td>\n",
              "      <td>None</td>\n",
              "      <td>None</td>\n",
              "      <td>None</td>\n",
              "      <td>NaN</td>\n",
              "      <td>0</td>\n",
              "      <td>0</td>\n",
              "      <td>in</td>\n",
              "      <td>Ratu.</td>\n",
              "      <td>belamouvr</td>\n",
              "      <td>JAKSEL + NSFW</td>\n",
              "      <td>176</td>\n",
              "      <td>243</td>\n",
              "      <td>barusan teriakan ratu matanya kelilipan rambu...</td>\n",
              "      <td>&lt;function sub at 0x7fafb11568c0&gt;</td>\n",
              "      <td>[barusan, teriakan, ratu, matanya, kelilipan, ...</td>\n",
              "      <td>[barusan, teriakan, ratu, matanya, kelilipan, ...</td>\n",
              "      <td>[barusan, ria, ratu, mata, kelilip, rambut, an...</td>\n",
              "    </tr>\n",
              "  </tbody>\n",
              "</table>\n",
              "</div>"
            ],
            "text/plain": [
              "                    id  ...                                            stemmed\n",
              "0  1469228494202626053  ...  [pohon, tinggi, meter, timpa, kendara, vespa, ...\n",
              "1  1469228418709397504  ...  [angin, kencang, acak, acak, rumah, sorong, pa...\n",
              "2  1469227773176598530  ...  [angin, kencang, acak, acak, rumah, sorong, pa...\n",
              "3  1469227647263596544  ...  [angin, kencang, acak, acak, rumah, sorong, pa...\n",
              "4  1469226949612490753  ...  [barusan, ria, ratu, mata, kelilip, rambut, an...\n",
              "\n",
              "[5 rows x 19 columns]"
            ]
          },
          "metadata": {},
          "execution_count": 27
        }
      ]
    },
    {
      "cell_type": "code",
      "source": [
        "def cleanning (text):\n",
        "    text = \" \".join(word for word in text)\n",
        "    return text\n",
        "\n",
        "dataready['clean_text'] = dataready['stopword_remove'].apply(lambda x: cleanning(x))\n",
        "dataready.head()"
      ],
      "metadata": {
        "colab": {
          "base_uri": "https://localhost:8080/",
          "height": 712
        },
        "id": "EvqiV1Farucs",
        "outputId": "d9da99dd-7a17-4c9b-87d5-ff0bd81b9091"
      },
      "execution_count": null,
      "outputs": [
        {
          "output_type": "execute_result",
          "data": {
            "text/html": [
              "<div>\n",
              "<style scoped>\n",
              "    .dataframe tbody tr th:only-of-type {\n",
              "        vertical-align: middle;\n",
              "    }\n",
              "\n",
              "    .dataframe tbody tr th {\n",
              "        vertical-align: top;\n",
              "    }\n",
              "\n",
              "    .dataframe thead th {\n",
              "        text-align: right;\n",
              "    }\n",
              "</style>\n",
              "<table border=\"1\" class=\"dataframe\">\n",
              "  <thead>\n",
              "    <tr style=\"text-align: right;\">\n",
              "      <th></th>\n",
              "      <th>id</th>\n",
              "      <th>text</th>\n",
              "      <th>geo</th>\n",
              "      <th>coordinates</th>\n",
              "      <th>place</th>\n",
              "      <th>contributors</th>\n",
              "      <th>retweet_count</th>\n",
              "      <th>favorite_count</th>\n",
              "      <th>lang</th>\n",
              "      <th>name</th>\n",
              "      <th>screen_name</th>\n",
              "      <th>location</th>\n",
              "      <th>followers_count</th>\n",
              "      <th>friends_count</th>\n",
              "      <th>cleaned_text</th>\n",
              "      <th>clean</th>\n",
              "      <th>tokenized</th>\n",
              "      <th>stopword_remove</th>\n",
              "      <th>stemmed</th>\n",
              "      <th>clean_text</th>\n",
              "    </tr>\n",
              "  </thead>\n",
              "  <tbody>\n",
              "    <tr>\n",
              "      <th>0</th>\n",
              "      <td>1469228494202626053</td>\n",
              "      <td>rt @kumparan: pohon dengan ketinggian 10 meter...</td>\n",
              "      <td>None</td>\n",
              "      <td>None</td>\n",
              "      <td>None</td>\n",
              "      <td>NaN</td>\n",
              "      <td>1</td>\n",
              "      <td>0</td>\n",
              "      <td>in</td>\n",
              "      <td>GIGIEN GERHANA 🌕</td>\n",
              "      <td>gigien_g</td>\n",
              "      <td>Bandung City - Indonesia🌄</td>\n",
              "      <td>83</td>\n",
              "      <td>2436</td>\n",
              "      <td>pohon ketinggian meter menimpa pengendara vesp...</td>\n",
              "      <td>&lt;function sub at 0x7fafb11568c0&gt;</td>\n",
              "      <td>[pohon, ketinggian, meter, menimpa, pengendara...</td>\n",
              "      <td>[pohon, ketinggian, meter, menimpa, pengendara...</td>\n",
              "      <td>[pohon, tinggi, meter, timpa, kendara, vespa, ...</td>\n",
              "      <td>pohon ketinggian meter menimpa pengendara vesp...</td>\n",
              "    </tr>\n",
              "    <tr>\n",
              "      <th>1</th>\n",
              "      <td>1469228418709397504</td>\n",
              "      <td>rt @wahananewsdotco: angin kencang acak-acak 2...</td>\n",
              "      <td>None</td>\n",
              "      <td>None</td>\n",
              "      <td>None</td>\n",
              "      <td>NaN</td>\n",
              "      <td>4</td>\n",
              "      <td>0</td>\n",
              "      <td>in</td>\n",
              "      <td>Gibera Kata</td>\n",
              "      <td>giberakata</td>\n",
              "      <td></td>\n",
              "      <td>2294</td>\n",
              "      <td>2512</td>\n",
              "      <td>angin kencang acak acak rumah sorong papua</td>\n",
              "      <td>&lt;function sub at 0x7fafb11568c0&gt;</td>\n",
              "      <td>[angin, kencang, acak, acak, rumah, sorong, pa...</td>\n",
              "      <td>[angin, kencang, acak, acak, rumah, sorong, pa...</td>\n",
              "      <td>[angin, kencang, acak, acak, rumah, sorong, pa...</td>\n",
              "      <td>angin kencang acak acak rumah sorong papua</td>\n",
              "    </tr>\n",
              "    <tr>\n",
              "      <th>2</th>\n",
              "      <td>1469227773176598530</td>\n",
              "      <td>rt @wahananewsdotco: angin kencang acak-acak 2...</td>\n",
              "      <td>None</td>\n",
              "      <td>None</td>\n",
              "      <td>None</td>\n",
              "      <td>NaN</td>\n",
              "      <td>4</td>\n",
              "      <td>0</td>\n",
              "      <td>in</td>\n",
              "      <td>Jejak Literasi</td>\n",
              "      <td>Jelita2020</td>\n",
              "      <td>West Java</td>\n",
              "      <td>1764</td>\n",
              "      <td>1899</td>\n",
              "      <td>angin kencang acak acak rumah sorong papua</td>\n",
              "      <td>&lt;function sub at 0x7fafb11568c0&gt;</td>\n",
              "      <td>[angin, kencang, acak, acak, rumah, sorong, pa...</td>\n",
              "      <td>[angin, kencang, acak, acak, rumah, sorong, pa...</td>\n",
              "      <td>[angin, kencang, acak, acak, rumah, sorong, pa...</td>\n",
              "      <td>angin kencang acak acak rumah sorong papua</td>\n",
              "    </tr>\n",
              "    <tr>\n",
              "      <th>3</th>\n",
              "      <td>1469227647263596544</td>\n",
              "      <td>angin kencang acak-acak 28 rumah di sorong pap...</td>\n",
              "      <td>None</td>\n",
              "      <td>None</td>\n",
              "      <td>None</td>\n",
              "      <td>NaN</td>\n",
              "      <td>4</td>\n",
              "      <td>0</td>\n",
              "      <td>in</td>\n",
              "      <td>WahanaNews Official</td>\n",
              "      <td>wahananewsdotco</td>\n",
              "      <td>Jakarta</td>\n",
              "      <td>4996</td>\n",
              "      <td>4856</td>\n",
              "      <td>angin kencang acak acak rumah sorong papua</td>\n",
              "      <td>&lt;function sub at 0x7fafb11568c0&gt;</td>\n",
              "      <td>[angin, kencang, acak, acak, rumah, sorong, pa...</td>\n",
              "      <td>[angin, kencang, acak, acak, rumah, sorong, pa...</td>\n",
              "      <td>[angin, kencang, acak, acak, rumah, sorong, pa...</td>\n",
              "      <td>angin kencang acak acak rumah sorong papua</td>\n",
              "    </tr>\n",
              "    <tr>\n",
              "      <th>4</th>\n",
              "      <td>1469226949612490753</td>\n",
              "      <td>️\\n\\n️\\n\\n️\\n\"aduh!\"\\n\\nbarusan itu teriakan r...</td>\n",
              "      <td>None</td>\n",
              "      <td>None</td>\n",
              "      <td>None</td>\n",
              "      <td>NaN</td>\n",
              "      <td>0</td>\n",
              "      <td>0</td>\n",
              "      <td>in</td>\n",
              "      <td>Ratu.</td>\n",
              "      <td>belamouvr</td>\n",
              "      <td>JAKSEL + NSFW</td>\n",
              "      <td>176</td>\n",
              "      <td>243</td>\n",
              "      <td>barusan teriakan ratu matanya kelilipan rambu...</td>\n",
              "      <td>&lt;function sub at 0x7fafb11568c0&gt;</td>\n",
              "      <td>[barusan, teriakan, ratu, matanya, kelilipan, ...</td>\n",
              "      <td>[barusan, teriakan, ratu, matanya, kelilipan, ...</td>\n",
              "      <td>[barusan, ria, ratu, mata, kelilip, rambut, an...</td>\n",
              "      <td>barusan teriakan ratu matanya kelilipan rambut...</td>\n",
              "    </tr>\n",
              "  </tbody>\n",
              "</table>\n",
              "</div>"
            ],
            "text/plain": [
              "                    id  ...                                         clean_text\n",
              "0  1469228494202626053  ...  pohon ketinggian meter menimpa pengendara vesp...\n",
              "1  1469228418709397504  ...         angin kencang acak acak rumah sorong papua\n",
              "2  1469227773176598530  ...         angin kencang acak acak rumah sorong papua\n",
              "3  1469227647263596544  ...         angin kencang acak acak rumah sorong papua\n",
              "4  1469226949612490753  ...  barusan teriakan ratu matanya kelilipan rambut...\n",
              "\n",
              "[5 rows x 20 columns]"
            ]
          },
          "metadata": {},
          "execution_count": 28
        }
      ]
    },
    {
      "cell_type": "code",
      "source": [
        "dataready.to_json('/content/dataready.json', orient='records')"
      ],
      "metadata": {
        "id": "et3nqgkuHmd6"
      },
      "execution_count": null,
      "outputs": []
    },
    {
      "cell_type": "code",
      "source": [
        "datafinal1 = dataready[['clean_text']]"
      ],
      "metadata": {
        "id": "IKQ-4QGniObl"
      },
      "execution_count": null,
      "outputs": []
    },
    {
      "cell_type": "code",
      "source": [
        "datafinal1"
      ],
      "metadata": {
        "colab": {
          "base_uri": "https://localhost:8080/",
          "height": 423
        },
        "id": "vCFLf329iS5c",
        "outputId": "6d745208-59aa-4591-de4c-8fbab64ff0ee"
      },
      "execution_count": null,
      "outputs": [
        {
          "output_type": "execute_result",
          "data": {
            "text/html": [
              "<div>\n",
              "<style scoped>\n",
              "    .dataframe tbody tr th:only-of-type {\n",
              "        vertical-align: middle;\n",
              "    }\n",
              "\n",
              "    .dataframe tbody tr th {\n",
              "        vertical-align: top;\n",
              "    }\n",
              "\n",
              "    .dataframe thead th {\n",
              "        text-align: right;\n",
              "    }\n",
              "</style>\n",
              "<table border=\"1\" class=\"dataframe\">\n",
              "  <thead>\n",
              "    <tr style=\"text-align: right;\">\n",
              "      <th></th>\n",
              "      <th>clean_text</th>\n",
              "    </tr>\n",
              "  </thead>\n",
              "  <tbody>\n",
              "    <tr>\n",
              "      <th>0</th>\n",
              "      <td>pohon ketinggian meter menimpa pengendara vesp...</td>\n",
              "    </tr>\n",
              "    <tr>\n",
              "      <th>1</th>\n",
              "      <td>angin kencang acak acak rumah sorong papua</td>\n",
              "    </tr>\n",
              "    <tr>\n",
              "      <th>2</th>\n",
              "      <td>angin kencang acak acak rumah sorong papua</td>\n",
              "    </tr>\n",
              "    <tr>\n",
              "      <th>3</th>\n",
              "      <td>angin kencang acak acak rumah sorong papua</td>\n",
              "    </tr>\n",
              "    <tr>\n",
              "      <th>4</th>\n",
              "      <td>barusan teriakan ratu matanya kelilipan rambut...</td>\n",
              "    </tr>\n",
              "    <tr>\n",
              "      <th>...</th>\n",
              "      <td>...</td>\n",
              "    </tr>\n",
              "    <tr>\n",
              "      <th>15665</th>\n",
              "      <td>relawan lpbi kabupaten bangkalan menyerahkan b...</td>\n",
              "    </tr>\n",
              "    <tr>\n",
              "      <th>15666</th>\n",
              "      <td>relawan lpbi kabupaten bangkalan menyerahkan b...</td>\n",
              "    </tr>\n",
              "    <tr>\n",
              "      <th>15667</th>\n",
              "      <td>relawan lpbi kabupaten bangkalan menyerahkan b...</td>\n",
              "    </tr>\n",
              "    <tr>\n",
              "      <th>15668</th>\n",
              "      <td>rumah hujan badai angin topan badai katrina pu...</td>\n",
              "    </tr>\n",
              "    <tr>\n",
              "      <th>15669</th>\n",
              "      <td>beritasonora menit angin puting beliung sulawe...</td>\n",
              "    </tr>\n",
              "  </tbody>\n",
              "</table>\n",
              "<p>15670 rows × 1 columns</p>\n",
              "</div>"
            ],
            "text/plain": [
              "                                              clean_text\n",
              "0      pohon ketinggian meter menimpa pengendara vesp...\n",
              "1             angin kencang acak acak rumah sorong papua\n",
              "2             angin kencang acak acak rumah sorong papua\n",
              "3             angin kencang acak acak rumah sorong papua\n",
              "4      barusan teriakan ratu matanya kelilipan rambut...\n",
              "...                                                  ...\n",
              "15665  relawan lpbi kabupaten bangkalan menyerahkan b...\n",
              "15666  relawan lpbi kabupaten bangkalan menyerahkan b...\n",
              "15667  relawan lpbi kabupaten bangkalan menyerahkan b...\n",
              "15668  rumah hujan badai angin topan badai katrina pu...\n",
              "15669  beritasonora menit angin puting beliung sulawe...\n",
              "\n",
              "[15670 rows x 1 columns]"
            ]
          },
          "metadata": {},
          "execution_count": 31
        }
      ]
    },
    {
      "cell_type": "code",
      "source": [
        "datafinal = dataready[['cleaned_text']]"
      ],
      "metadata": {
        "id": "2ivuZPTUTD-m"
      },
      "execution_count": null,
      "outputs": []
    },
    {
      "cell_type": "markdown",
      "source": [
        "#BEBERAPA EDA SEDERHANA"
      ],
      "metadata": {
        "id": "BD1f6L_OqPSC"
      }
    },
    {
      "cell_type": "code",
      "source": [
        "retweet = dataready[['cleaned_text', 'retweet_count']]\n",
        "retweet.sort_values(by=['retweet_count'], ascending=False).head()"
      ],
      "metadata": {
        "colab": {
          "base_uri": "https://localhost:8080/",
          "height": 206
        },
        "id": "xu4WNEIHqT16",
        "outputId": "7bbbcad7-9607-4148-9809-daaf96baa6dc"
      },
      "execution_count": null,
      "outputs": [
        {
          "output_type": "execute_result",
          "data": {
            "text/html": [
              "<div>\n",
              "<style scoped>\n",
              "    .dataframe tbody tr th:only-of-type {\n",
              "        vertical-align: middle;\n",
              "    }\n",
              "\n",
              "    .dataframe tbody tr th {\n",
              "        vertical-align: top;\n",
              "    }\n",
              "\n",
              "    .dataframe thead th {\n",
              "        text-align: right;\n",
              "    }\n",
              "</style>\n",
              "<table border=\"1\" class=\"dataframe\">\n",
              "  <thead>\n",
              "    <tr style=\"text-align: right;\">\n",
              "      <th></th>\n",
              "      <th>cleaned_text</th>\n",
              "      <th>retweet_count</th>\n",
              "    </tr>\n",
              "  </thead>\n",
              "  <tbody>\n",
              "    <tr>\n",
              "      <th>2316</th>\n",
              "      <td>pelajari penulisan judul berita janda cianjur ...</td>\n",
              "      <td>9310</td>\n",
              "    </tr>\n",
              "    <tr>\n",
              "      <th>14116</th>\n",
              "      <td>dating kancil panas terik aircond rosak plak p...</td>\n",
              "      <td>5793</td>\n",
              "    </tr>\n",
              "    <tr>\n",
              "      <th>10044</th>\n",
              "      <td>randy bagus sasongko enak pelaku pemerkosa dit...</td>\n",
              "      <td>5725</td>\n",
              "    </tr>\n",
              "    <tr>\n",
              "      <th>7598</th>\n",
              "      <td>lelah berantakan ngerasa dilakuin sia ngerasa ...</td>\n",
              "      <td>4222</td>\n",
              "    </tr>\n",
              "    <tr>\n",
              "      <th>8753</th>\n",
              "      <td>taekook Trapped pagi jungkook ngetweet cowok g...</td>\n",
              "      <td>732</td>\n",
              "    </tr>\n",
              "  </tbody>\n",
              "</table>\n",
              "</div>"
            ],
            "text/plain": [
              "                                            cleaned_text  retweet_count\n",
              "2316   pelajari penulisan judul berita janda cianjur ...           9310\n",
              "14116  dating kancil panas terik aircond rosak plak p...           5793\n",
              "10044  randy bagus sasongko enak pelaku pemerkosa dit...           5725\n",
              "7598   lelah berantakan ngerasa dilakuin sia ngerasa ...           4222\n",
              "8753   taekook Trapped pagi jungkook ngetweet cowok g...            732"
            ]
          },
          "metadata": {},
          "execution_count": 33
        }
      ]
    },
    {
      "cell_type": "code",
      "source": [
        "like = dataready[['cleaned_text', 'favorite_count']]\n",
        "like.sort_values(by=['favorite_count'], ascending=False).head()"
      ],
      "metadata": {
        "colab": {
          "base_uri": "https://localhost:8080/",
          "height": 206
        },
        "id": "ZVXHbOGcqmX0",
        "outputId": "8b0ed1ae-0975-4226-b1d2-24aa8e6f218a"
      },
      "execution_count": null,
      "outputs": [
        {
          "output_type": "execute_result",
          "data": {
            "text/html": [
              "<div>\n",
              "<style scoped>\n",
              "    .dataframe tbody tr th:only-of-type {\n",
              "        vertical-align: middle;\n",
              "    }\n",
              "\n",
              "    .dataframe tbody tr th {\n",
              "        vertical-align: top;\n",
              "    }\n",
              "\n",
              "    .dataframe thead th {\n",
              "        text-align: right;\n",
              "    }\n",
              "</style>\n",
              "<table border=\"1\" class=\"dataframe\">\n",
              "  <thead>\n",
              "    <tr style=\"text-align: right;\">\n",
              "      <th></th>\n",
              "      <th>cleaned_text</th>\n",
              "      <th>favorite_count</th>\n",
              "    </tr>\n",
              "  </thead>\n",
              "  <tbody>\n",
              "    <tr>\n",
              "      <th>599</th>\n",
              "      <td>nctbase pohon kencang angin menerpanya anggap ...</td>\n",
              "      <td>2622</td>\n",
              "    </tr>\n",
              "    <tr>\n",
              "      <th>9726</th>\n",
              "      <td>hujan baday angin ribut tiktoknya</td>\n",
              "      <td>2210</td>\n",
              "    </tr>\n",
              "    <tr>\n",
              "      <th>5245</th>\n",
              "      <td>hujan baday angin ribut tiktoknya</td>\n",
              "      <td>2210</td>\n",
              "    </tr>\n",
              "    <tr>\n",
              "      <th>10979</th>\n",
              "      <td>hujan badai bunda lalui puas terpuaskan servis...</td>\n",
              "      <td>1318</td>\n",
              "    </tr>\n",
              "    <tr>\n",
              "      <th>3009</th>\n",
              "      <td>heboh mensos risma kendalikan angin badai neti...</td>\n",
              "      <td>969</td>\n",
              "    </tr>\n",
              "  </tbody>\n",
              "</table>\n",
              "</div>"
            ],
            "text/plain": [
              "                                            cleaned_text  favorite_count\n",
              "599    nctbase pohon kencang angin menerpanya anggap ...            2622\n",
              "9726                   hujan baday angin ribut tiktoknya            2210\n",
              "5245                   hujan baday angin ribut tiktoknya            2210\n",
              "10979  hujan badai bunda lalui puas terpuaskan servis...            1318\n",
              "3009   heboh mensos risma kendalikan angin badai neti...             969"
            ]
          },
          "metadata": {},
          "execution_count": 34
        }
      ]
    },
    {
      "cell_type": "code",
      "source": [
        "followers = dataready[['name', 'followers_count']]\n",
        "followers.sort_values(by=['followers_count'], ascending=False).head()"
      ],
      "metadata": {
        "colab": {
          "base_uri": "https://localhost:8080/",
          "height": 206
        },
        "id": "KBpmYhTuq1H4",
        "outputId": "ffa4edc2-9375-46f6-a972-230f922aa41e"
      },
      "execution_count": null,
      "outputs": [
        {
          "output_type": "execute_result",
          "data": {
            "text/html": [
              "<div>\n",
              "<style scoped>\n",
              "    .dataframe tbody tr th:only-of-type {\n",
              "        vertical-align: middle;\n",
              "    }\n",
              "\n",
              "    .dataframe tbody tr th {\n",
              "        vertical-align: top;\n",
              "    }\n",
              "\n",
              "    .dataframe thead th {\n",
              "        text-align: right;\n",
              "    }\n",
              "</style>\n",
              "<table border=\"1\" class=\"dataframe\">\n",
              "  <thead>\n",
              "    <tr style=\"text-align: right;\">\n",
              "      <th></th>\n",
              "      <th>name</th>\n",
              "      <th>followers_count</th>\n",
              "    </tr>\n",
              "  </thead>\n",
              "  <tbody>\n",
              "    <tr>\n",
              "      <th>6031</th>\n",
              "      <td>detikcom</td>\n",
              "      <td>17299784</td>\n",
              "    </tr>\n",
              "    <tr>\n",
              "      <th>5214</th>\n",
              "      <td>detikcom</td>\n",
              "      <td>17299780</td>\n",
              "    </tr>\n",
              "    <tr>\n",
              "      <th>14595</th>\n",
              "      <td>detikcom</td>\n",
              "      <td>17299738</td>\n",
              "    </tr>\n",
              "    <tr>\n",
              "      <th>1591</th>\n",
              "      <td>detikcom</td>\n",
              "      <td>17299720</td>\n",
              "    </tr>\n",
              "    <tr>\n",
              "      <th>1257</th>\n",
              "      <td>detikcom</td>\n",
              "      <td>17299720</td>\n",
              "    </tr>\n",
              "  </tbody>\n",
              "</table>\n",
              "</div>"
            ],
            "text/plain": [
              "           name  followers_count\n",
              "6031   detikcom         17299784\n",
              "5214   detikcom         17299780\n",
              "14595  detikcom         17299738\n",
              "1591   detikcom         17299720\n",
              "1257   detikcom         17299720"
            ]
          },
          "metadata": {},
          "execution_count": 35
        }
      ]
    },
    {
      "cell_type": "code",
      "source": [
        "friends = dataready[['name', 'friends_count']]\n",
        "friends.sort_values(by=['friends_count'], ascending=False).head()"
      ],
      "metadata": {
        "colab": {
          "base_uri": "https://localhost:8080/",
          "height": 206
        },
        "id": "5vQDWj0LrtxJ",
        "outputId": "7f347723-fe6f-4375-9d5b-1ab311c71713"
      },
      "execution_count": null,
      "outputs": [
        {
          "output_type": "execute_result",
          "data": {
            "text/html": [
              "<div>\n",
              "<style scoped>\n",
              "    .dataframe tbody tr th:only-of-type {\n",
              "        vertical-align: middle;\n",
              "    }\n",
              "\n",
              "    .dataframe tbody tr th {\n",
              "        vertical-align: top;\n",
              "    }\n",
              "\n",
              "    .dataframe thead th {\n",
              "        text-align: right;\n",
              "    }\n",
              "</style>\n",
              "<table border=\"1\" class=\"dataframe\">\n",
              "  <thead>\n",
              "    <tr style=\"text-align: right;\">\n",
              "      <th></th>\n",
              "      <th>name</th>\n",
              "      <th>friends_count</th>\n",
              "    </tr>\n",
              "  </thead>\n",
              "  <tbody>\n",
              "    <tr>\n",
              "      <th>12</th>\n",
              "      <td>BANDUNG ᮘᮔ᮪ᮓᮥᮀ</td>\n",
              "      <td>216230</td>\n",
              "    </tr>\n",
              "    <tr>\n",
              "      <th>3567</th>\n",
              "      <td>BANDUNG ᮘᮔ᮪ᮓᮥᮀ</td>\n",
              "      <td>216230</td>\n",
              "    </tr>\n",
              "    <tr>\n",
              "      <th>3605</th>\n",
              "      <td>BANDUNG ᮘᮔ᮪ᮓᮥᮀ</td>\n",
              "      <td>216230</td>\n",
              "    </tr>\n",
              "    <tr>\n",
              "      <th>3603</th>\n",
              "      <td>BANDUNG ᮘᮔ᮪ᮓᮥᮀ</td>\n",
              "      <td>216230</td>\n",
              "    </tr>\n",
              "    <tr>\n",
              "      <th>12971</th>\n",
              "      <td>BANDUNG ᮘᮔ᮪ᮓᮥᮀ</td>\n",
              "      <td>216220</td>\n",
              "    </tr>\n",
              "  </tbody>\n",
              "</table>\n",
              "</div>"
            ],
            "text/plain": [
              "                 name  friends_count\n",
              "12     BANDUNG ᮘᮔ᮪ᮓᮥᮀ         216230\n",
              "3567   BANDUNG ᮘᮔ᮪ᮓᮥᮀ         216230\n",
              "3605   BANDUNG ᮘᮔ᮪ᮓᮥᮀ         216230\n",
              "3603   BANDUNG ᮘᮔ᮪ᮓᮥᮀ         216230\n",
              "12971  BANDUNG ᮘᮔ᮪ᮓᮥᮀ         216220"
            ]
          },
          "metadata": {},
          "execution_count": 36
        }
      ]
    },
    {
      "cell_type": "markdown",
      "source": [
        "#SOCIAL NETWORK ANALITICS(GRAPH)"
      ],
      "metadata": {
        "id": "KWUzTmRKfzKN"
      }
    },
    {
      "cell_type": "code",
      "source": [
        "!pip install unidecode\n",
        "!pip install pyLDAvis\n",
        "try:\n",
        "    !wget https://raw.githubusercontent.com/taufikedys/Graph-Python-Nx/master/taudata.py\n",
        "    !wget https://raw.githubusercontent.com/taudata-indonesia/eLearning/master/taudata_sna.py\n",
        "    !wget https://raw.githubusercontent.com/taudata-indonesia/eLearning/master/taudataNlpTm.py\n",
        "    !wget https://github.com/taufikedys/Graph-Python-Nx/blob/master/data.html\n",
        "except:\n",
        "    pass"
      ],
      "metadata": {
        "colab": {
          "base_uri": "https://localhost:8080/",
          "height": 1000
        },
        "id": "pzSOtoWsbv7C",
        "outputId": "844df046-1ab9-48c9-bea6-93c792e1ea5a"
      },
      "execution_count": null,
      "outputs": [
        {
          "output_type": "stream",
          "name": "stdout",
          "text": [
            "Requirement already satisfied: unidecode in /usr/local/lib/python3.7/dist-packages (1.3.2)\n",
            "Collecting pyLDAvis\n",
            "  Downloading pyLDAvis-3.3.1.tar.gz (1.7 MB)\n",
            "\u001b[K     |████████████████████████████████| 1.7 MB 5.2 MB/s \n",
            "\u001b[?25h  Installing build dependencies ... \u001b[?25l\u001b[?25hdone\n",
            "  Getting requirements to build wheel ... \u001b[?25l\u001b[?25hdone\n",
            "  Installing backend dependencies ... \u001b[?25l\u001b[?25hdone\n",
            "    Preparing wheel metadata ... \u001b[?25l\u001b[?25hdone\n",
            "Requirement already satisfied: joblib in /usr/local/lib/python3.7/dist-packages (from pyLDAvis) (1.1.0)\n",
            "Requirement already satisfied: jinja2 in /usr/local/lib/python3.7/dist-packages (from pyLDAvis) (2.11.3)\n",
            "Collecting funcy\n",
            "  Downloading funcy-1.16-py2.py3-none-any.whl (32 kB)\n",
            "Requirement already satisfied: scipy in /usr/local/lib/python3.7/dist-packages (from pyLDAvis) (1.4.1)\n",
            "Requirement already satisfied: scikit-learn in /usr/local/lib/python3.7/dist-packages (from pyLDAvis) (1.0.1)\n",
            "Collecting numpy>=1.20.0\n",
            "  Downloading numpy-1.21.4-cp37-cp37m-manylinux_2_12_x86_64.manylinux2010_x86_64.whl (15.7 MB)\n",
            "\u001b[K     |████████████████████████████████| 15.7 MB 34.6 MB/s \n",
            "\u001b[?25hRequirement already satisfied: sklearn in /usr/local/lib/python3.7/dist-packages (from pyLDAvis) (0.0)\n",
            "Requirement already satisfied: gensim in /usr/local/lib/python3.7/dist-packages (from pyLDAvis) (3.6.0)\n",
            "Requirement already satisfied: setuptools in /usr/local/lib/python3.7/dist-packages (from pyLDAvis) (57.4.0)\n",
            "Collecting pandas>=1.2.0\n",
            "  Downloading pandas-1.3.5-cp37-cp37m-manylinux_2_17_x86_64.manylinux2014_x86_64.whl (11.3 MB)\n",
            "\u001b[K     |████████████████████████████████| 11.3 MB 42.2 MB/s \n",
            "\u001b[?25hRequirement already satisfied: future in /usr/local/lib/python3.7/dist-packages (from pyLDAvis) (0.16.0)\n",
            "Requirement already satisfied: numexpr in /usr/local/lib/python3.7/dist-packages (from pyLDAvis) (2.7.3)\n",
            "Requirement already satisfied: python-dateutil>=2.7.3 in /usr/local/lib/python3.7/dist-packages (from pandas>=1.2.0->pyLDAvis) (2.8.2)\n",
            "Requirement already satisfied: pytz>=2017.3 in /usr/local/lib/python3.7/dist-packages (from pandas>=1.2.0->pyLDAvis) (2018.9)\n",
            "Requirement already satisfied: six>=1.5 in /usr/local/lib/python3.7/dist-packages (from python-dateutil>=2.7.3->pandas>=1.2.0->pyLDAvis) (1.15.0)\n",
            "Requirement already satisfied: smart-open>=1.2.1 in /usr/local/lib/python3.7/dist-packages (from gensim->pyLDAvis) (5.2.1)\n",
            "Requirement already satisfied: MarkupSafe>=0.23 in /usr/local/lib/python3.7/dist-packages (from jinja2->pyLDAvis) (2.0.1)\n",
            "Requirement already satisfied: threadpoolctl>=2.0.0 in /usr/local/lib/python3.7/dist-packages (from scikit-learn->pyLDAvis) (3.0.0)\n",
            "Building wheels for collected packages: pyLDAvis\n",
            "  Building wheel for pyLDAvis (PEP 517) ... \u001b[?25l\u001b[?25hdone\n",
            "  Created wheel for pyLDAvis: filename=pyLDAvis-3.3.1-py2.py3-none-any.whl size=136897 sha256=9bcb390929a53bd90e3d4fd746a73951632018c72483a0c8ea31bfa88c515932\n",
            "  Stored in directory: /root/.cache/pip/wheels/c9/21/f6/17bcf2667e8a68532ba2fbf6d5c72fdf4c7f7d9abfa4852d2f\n",
            "Successfully built pyLDAvis\n",
            "Installing collected packages: numpy, pandas, funcy, pyLDAvis\n",
            "  Attempting uninstall: numpy\n",
            "    Found existing installation: numpy 1.19.5\n",
            "    Uninstalling numpy-1.19.5:\n",
            "      Successfully uninstalled numpy-1.19.5\n",
            "  Attempting uninstall: pandas\n",
            "    Found existing installation: pandas 1.1.5\n",
            "    Uninstalling pandas-1.1.5:\n",
            "      Successfully uninstalled pandas-1.1.5\n",
            "\u001b[31mERROR: pip's dependency resolver does not currently take into account all the packages that are installed. This behaviour is the source of the following dependency conflicts.\n",
            "yellowbrick 1.3.post1 requires numpy<1.20,>=1.16.0, but you have numpy 1.21.4 which is incompatible.\n",
            "google-colab 1.0.0 requires pandas~=1.1.0; python_version >= \"3.0\", but you have pandas 1.3.5 which is incompatible.\n",
            "datascience 0.10.6 requires folium==0.2.1, but you have folium 0.8.3 which is incompatible.\n",
            "albumentations 0.1.12 requires imgaug<0.2.7,>=0.2.5, but you have imgaug 0.2.9 which is incompatible.\u001b[0m\n",
            "Successfully installed funcy-1.16 numpy-1.21.4 pandas-1.3.5 pyLDAvis-3.3.1\n"
          ]
        },
        {
          "output_type": "display_data",
          "data": {
            "application/vnd.colab-display-data+json": {
              "pip_warning": {
                "packages": [
                  "numpy",
                  "pandas"
                ]
              }
            }
          },
          "metadata": {}
        },
        {
          "output_type": "stream",
          "name": "stdout",
          "text": [
            "--2021-12-13 09:53:51--  https://raw.githubusercontent.com/taufikedys/Graph-Python-Nx/master/taudata.py\n",
            "Resolving raw.githubusercontent.com (raw.githubusercontent.com)... 185.199.108.133, 185.199.109.133, 185.199.110.133, ...\n",
            "Connecting to raw.githubusercontent.com (raw.githubusercontent.com)|185.199.108.133|:443... connected.\n",
            "HTTP request sent, awaiting response... 404 Not Found\n",
            "2021-12-13 09:53:52 ERROR 404: Not Found.\n",
            "\n",
            "--2021-12-13 09:53:52--  https://raw.githubusercontent.com/taudata-indonesia/eLearning/master/taudata_sna.py\n",
            "Resolving raw.githubusercontent.com (raw.githubusercontent.com)... 185.199.108.133, 185.199.109.133, 185.199.110.133, ...\n",
            "Connecting to raw.githubusercontent.com (raw.githubusercontent.com)|185.199.108.133|:443... connected.\n",
            "HTTP request sent, awaiting response... 200 OK\n",
            "Length: 20088 (20K) [text/plain]\n",
            "Saving to: ‘taudata_sna.py’\n",
            "\n",
            "taudata_sna.py      100%[===================>]  19.62K  --.-KB/s    in 0.001s  \n",
            "\n",
            "2021-12-13 09:53:52 (21.5 MB/s) - ‘taudata_sna.py’ saved [20088/20088]\n",
            "\n",
            "--2021-12-13 09:53:52--  https://raw.githubusercontent.com/taudata-indonesia/eLearning/master/taudataNlpTm.py\n",
            "Resolving raw.githubusercontent.com (raw.githubusercontent.com)... 185.199.108.133, 185.199.109.133, 185.199.110.133, ...\n",
            "Connecting to raw.githubusercontent.com (raw.githubusercontent.com)|185.199.108.133|:443... connected.\n",
            "HTTP request sent, awaiting response... 200 OK\n",
            "Length: 16713 (16K) [text/plain]\n",
            "Saving to: ‘taudataNlpTm.py’\n",
            "\n",
            "taudataNlpTm.py     100%[===================>]  16.32K  --.-KB/s    in 0.001s  \n",
            "\n",
            "2021-12-13 09:53:52 (27.7 MB/s) - ‘taudataNlpTm.py’ saved [16713/16713]\n",
            "\n",
            "--2021-12-13 09:53:52--  https://github.com/taufikedys/Graph-Python-Nx/blob/master/data.html\n",
            "Resolving github.com (github.com)... 140.82.112.3\n",
            "Connecting to github.com (github.com)|140.82.112.3|:443... connected.\n",
            "HTTP request sent, awaiting response... 404 Not Found\n",
            "2021-12-13 09:53:52 ERROR 404: Not Found.\n",
            "\n"
          ]
        }
      ]
    },
    {
      "cell_type": "code",
      "source": [
        "# import beberapa module yg dibutuhkan di WorkShop ini:\n",
        "\n",
        "import graphviz, warnings; warnings.simplefilter('ignore')\n",
        "import time, numpy as np, matplotlib.pyplot as plt, pandas as pd, networkx as nx\n",
        "import taudata_sna as tau\n",
        "import pyLDAvis, pyLDAvis.sklearn; pyLDAvis.enable_notebook()\n",
        "from graphviz import Digraph"
      ],
      "metadata": {
        "id": "8lzqEW_Rby18",
        "colab": {
          "base_uri": "https://localhost:8080/"
        },
        "outputId": "b02d35f6-b637-49e9-da44-a59f3f513ec2"
      },
      "execution_count": null,
      "outputs": [
        {
          "output_type": "stream",
          "name": "stderr",
          "text": [
            "/usr/local/lib/python3.7/dist-packages/past/types/oldstr.py:5: DeprecationWarning: Using or importing the ABCs from 'collections' instead of from 'collections.abc' is deprecated since Python 3.3,and in 3.9 it will stop working\n",
            "  from collections import Iterable\n"
          ]
        }
      ]
    },
    {
      "cell_type": "code",
      "source": [
        "name = dataready.screen_name.to_list()\n",
        "tweet = dataready.text.to_list()"
      ],
      "metadata": {
        "id": "chqcVmeAIOSr"
      },
      "execution_count": null,
      "outputs": []
    },
    {
      "cell_type": "code",
      "source": [
        "print(name[:3])"
      ],
      "metadata": {
        "colab": {
          "base_uri": "https://localhost:8080/"
        },
        "id": "1854h9R7Ieja",
        "outputId": "56a0ab48-aa67-4d40-cf95-0987ed35fca2"
      },
      "execution_count": null,
      "outputs": [
        {
          "output_type": "stream",
          "name": "stdout",
          "text": [
            "['gigien_g', 'giberakata', 'Jelita2020']\n"
          ]
        }
      ]
    },
    {
      "cell_type": "code",
      "source": [
        "print(tweet[:3])"
      ],
      "metadata": {
        "colab": {
          "base_uri": "https://localhost:8080/"
        },
        "id": "pdnMf_l-IlI4",
        "outputId": "8680a1b1-220d-4e79-8785-fe1d7a3c4ff9"
      },
      "execution_count": null,
      "outputs": [
        {
          "output_type": "stream",
          "name": "stdout",
          "text": [
            "['rt @kumparan: pohon dengan ketinggian 10 meter tersebut menimpa seorang pengendara vespa. #kumparannews https://t.co/sfg1bhljqc', 'rt @wahananewsdotco: angin kencang acak-acak 28 rumah di sorong papua https://t.co/556uasv74a', 'rt @wahananewsdotco: angin kencang acak-acak 28 rumah di sorong papua https://t.co/556uasv74a']\n"
          ]
        }
      ]
    },
    {
      "cell_type": "code",
      "source": [
        "G = nx.Graph()\n",
        "\n",
        "G.add_nodes_from(name)\n",
        "\n",
        "print('banyak vertex : ', G.number_of_nodes())\n",
        "print('banyak edges : ', G.number_of_edges())"
      ],
      "metadata": {
        "colab": {
          "base_uri": "https://localhost:8080/"
        },
        "id": "esj8TgGRI0xZ",
        "outputId": "07f0c7c6-a643-4da1-9f93-e6b474c44c78"
      },
      "execution_count": null,
      "outputs": [
        {
          "output_type": "stream",
          "name": "stdout",
          "text": [
            "banyak vertex :  10511\n",
            "banyak edges :  0\n"
          ]
        }
      ]
    },
    {
      "cell_type": "code",
      "source": [
        "for usr, t in zip(name, tweet):\n",
        "  mentionS = re.findall(\"@([a-zA-Z0-9]{1,15})\", t)\n",
        "  for mention in mentionS:\n",
        "    if \".\" not in mention:\n",
        "      G.add_edge(usr, mention)\n",
        "\n",
        "print(\"Banyak vertex = \", G.number_of_nodes())\n",
        "print(\"Banyak edges = \", G.number_of_edges())"
      ],
      "metadata": {
        "colab": {
          "base_uri": "https://localhost:8080/"
        },
        "id": "zySe7rF5JMtA",
        "outputId": "bb5eff71-28b7-4863-be23-b6f30df54330"
      },
      "execution_count": null,
      "outputs": [
        {
          "output_type": "stream",
          "name": "stdout",
          "text": [
            "Banyak vertex =  13046\n",
            "Banyak edges =  7734\n"
          ]
        }
      ]
    },
    {
      "cell_type": "code",
      "source": [
        "# untuk mendapatkan user yang paling di mention, untuk mendapatkan user yang paling populer, yang paling banyak dibicarakan orang terkait issue badai, hujan angin dan sebagainya\n",
        "Gt = tau.Centrality(G, N=10, method='degree', outliers=False, Label = True, layOut='spring')"
      ],
      "metadata": {
        "colab": {
          "base_uri": "https://localhost:8080/"
        },
        "id": "yhCDCHoJft1M",
        "outputId": "abc4ed0f-b703-477c-c9e0-d163d111d244"
      },
      "execution_count": null,
      "outputs": [
        {
          "output_type": "stream",
          "name": "stdout",
          "text": [
            "Influencial Users: ['dppfpi', 'merapi', 'lelaki', 'ncitybase', 'seutaslara', 'e100ss', 'oposisicerdas', 'bpbdjakarta', 'mburhanuddin3', 'caraca']\n",
            "Influencial Users Scores: [0.0268302  0.01786125 0.01556152 0.01494826 0.01418168 0.01264852\n",
            " 0.01172863 0.00896895 0.00659256 0.00651591]\n"
          ]
        }
      ]
    },
    {
      "cell_type": "code",
      "source": [
        "tau.drawGraph(Gt, True, layOut='circular')"
      ],
      "metadata": {
        "colab": {
          "base_uri": "https://localhost:8080/",
          "height": 248
        },
        "id": "ELqqFqZOf7D6",
        "outputId": "6023bc63-7109-4ccb-cc73-ed7f427765da"
      },
      "execution_count": null,
      "outputs": [
        {
          "output_type": "display_data",
          "data": {
            "image/png": "[encoded data removed]",
            "text/plain": [
              "<Figure size 432x288 with 1 Axes>"
            ]
          },
          "metadata": {}
        }
      ]
    },
    {
      "cell_type": "code",
      "source": [
        "# untuk melihat users yang berpotensi memviralkan suatu issue badai, hujan angin dan sebagainya\n",
        "Gt1 = tau.Centrality(G, N=15, method='closeness', outliers=False, Label = True, layOut='spring')"
      ],
      "metadata": {
        "colab": {
          "base_uri": "https://localhost:8080/"
        },
        "id": "clbFKBAWf7hi",
        "outputId": "e7837b74-4d8a-4cef-d500-dbb1c7f011e0"
      },
      "execution_count": null,
      "outputs": [
        {
          "output_type": "stream",
          "name": "stdout",
          "text": [
            "Influencial Users: ['dppfpi', 'bpbdjakarta', 'actforhumanity', 'lelaki', 'ekurnia82', 'detikcom', 'AsepRachmat1967', 'merapi', 'romdhananas', 'beautydyah', 'oposisicerdas', 'Ibrahim78704863', 'onomsalam2pas', 'BocaBauKencur', 'tmcpoldametro']\n",
            "Influencial Users Scores: [0.04525628 0.04508016 0.0450074  0.04498857 0.04488398 0.04368603\n",
            " 0.04338147 0.04330163 0.04311813 0.04310579 0.04299993 0.04295087\n",
            " 0.04264919 0.04257684 0.04257202]\n"
          ]
        }
      ]
    },
    {
      "cell_type": "code",
      "source": [
        "tau.drawGraph(Gt1, True, layOut='circular')"
      ],
      "metadata": {
        "colab": {
          "base_uri": "https://localhost:8080/",
          "height": 248
        },
        "id": "y7nC-Hg6gAzT",
        "outputId": "6def69bc-3cb2-43a3-cb06-ac8873bdb5ae"
      },
      "execution_count": null,
      "outputs": [
        {
          "output_type": "display_data",
          "data": {
            "image/png": "[encoded data removed]",
            "text/plain": [
              "<Figure size 432x288 with 1 Axes>"
            ]
          },
          "metadata": {}
        }
      ]
    },
    {
      "cell_type": "code",
      "source": [
        "# mendapatkan user yang berpotensi untuk menghentikan menyebarnya issue badai, hujan angin dan sebagainya\n",
        "Gt2 = tau.Centrality(G, N=10, method='betweeness', outliers=False, Label = True, layOut='spring')"
      ],
      "metadata": {
        "colab": {
          "base_uri": "https://localhost:8080/"
        },
        "id": "Dw4avYyUCujc",
        "outputId": "413d5ad4-ba15-451d-abfe-83a33c6cbfb4"
      },
      "execution_count": null,
      "outputs": [
        {
          "output_type": "stream",
          "name": "stdout",
          "text": [
            "Influencial Users: ['dppfpi', 'askrlfess', 'giaontweet', 'merapi', 'bpbdjakarta', 'convomf', 'overthingqueen', 'lelaki', 'SonoraFM92', 'hutagaolpoltak']\n",
            "Influencial Users Scores: [0.01962373 0.01490104 0.01437968 0.01379877 0.01147129 0.01117503\n",
            " 0.01093406 0.01039564 0.00892395 0.00885897]\n"
          ]
        }
      ]
    },
    {
      "cell_type": "code",
      "source": [
        "tau.drawGraph(Gt2, True, layOut='circular')"
      ],
      "metadata": {
        "colab": {
          "base_uri": "https://localhost:8080/",
          "height": 248
        },
        "id": "-qX5UuxSC44e",
        "outputId": "3f1bdfbb-ab2f-4e0d-a08a-414a980d34cc"
      },
      "execution_count": null,
      "outputs": [
        {
          "output_type": "display_data",
          "data": {
            "image/png": "[encoded data removed]",
            "text/plain": [
              "<Figure size 432x288 with 1 Axes>"
            ]
          },
          "metadata": {}
        }
      ]
    },
    {
      "cell_type": "code",
      "source": [
        "def edge_to_remove(graph):\n",
        "  G_dict = nx.edge_betweenness_centrality(graph)\n",
        "  edge = ()\n",
        "\n",
        "  # extract the edge with highest edge betweenness centrality score\n",
        "  for key, value in sorted(G_dict.items(), key=lambda item: item[1], reverse = True):\n",
        "      edge = key\n",
        "      break\n",
        "\n",
        "  return edge"
      ],
      "metadata": {
        "id": "SkYoSu6YcAbV"
      },
      "execution_count": null,
      "outputs": []
    },
    {
      "cell_type": "code",
      "source": [
        "def girvan_newman(graph):\n",
        "\t# find number of connected components\n",
        "\tsg = nx.connected_components(graph)\n",
        "\tsg_count = nx.number_connected_components(graph)\n",
        "\n",
        "\twhile(sg_count == 1):\n",
        "\t\tgraph.remove_edge(edge_to_remove(graph)[0], edge_to_remove(graph)[1])\n",
        "\t\tsg = nx.connected_components(graph)\n",
        "\t\tsg_count = nx.number_connected_components(graph)\n",
        "\n",
        "\treturn sg"
      ],
      "metadata": {
        "id": "cDGsZpIDcDAs"
      },
      "execution_count": null,
      "outputs": []
    },
    {
      "cell_type": "code",
      "source": [
        "# find communities in the graph\n",
        "c = girvan_newman(Gt1.copy())\n",
        "\n",
        "# find the nodes forming the communities\n",
        "node_groups = []\n",
        "\n",
        "for i in c:\n",
        "  node_groups.append(list(i))"
      ],
      "metadata": {
        "id": "_zK0s3PqcHDm"
      },
      "execution_count": null,
      "outputs": []
    },
    {
      "cell_type": "code",
      "source": [
        "node_groups"
      ],
      "metadata": {
        "colab": {
          "base_uri": "https://localhost:8080/"
        },
        "id": "Spt_ywk3cKGF",
        "outputId": "fd8d13ac-2a9d-4592-a7a3-a667dd95f4cc"
      },
      "execution_count": null,
      "outputs": [
        {
          "output_type": "execute_result",
          "data": {
            "text/plain": [
              "[['beautydyah',\n",
              "  'bpbdjakarta',\n",
              "  'lelaki',\n",
              "  'actforhumanity',\n",
              "  'ekurnia82',\n",
              "  'dppfpi',\n",
              "  'romdhananas',\n",
              "  'BocaBauKencur',\n",
              "  'tmcpoldametro',\n",
              "  'detikcom',\n",
              "  'Ibrahim78704863',\n",
              "  'AsepRachmat1967',\n",
              "  'onomsalam2pas'],\n",
              " ['merapi'],\n",
              " ['oposisicerdas']]"
            ]
          },
          "metadata": {},
          "execution_count": 77
        }
      ]
    },
    {
      "cell_type": "code",
      "source": [
        "# plot the communities\n",
        "color_map = []\n",
        "for node in Gt1:\n",
        "    if node in node_groups[0]:\n",
        "        color_map.append('blue')\n",
        "    else: \n",
        "        color_map.append('green')  \n",
        "\n",
        "nx.draw(Gt1, node_color=color_map, with_labels=True)\n",
        "plt.show()"
      ],
      "metadata": {
        "colab": {
          "base_uri": "https://localhost:8080/",
          "height": 319
        },
        "id": "kwPk1bR0cOSu",
        "outputId": "ff1c5ad0-7670-4400-ac8b-aaf4f7198b3f"
      },
      "execution_count": null,
      "outputs": [
        {
          "output_type": "display_data",
          "data": {
            "image/png": "[encoded data removed]",
            "text/plain": [
              "<Figure size 432x288 with 1 Axes>"
            ]
          },
          "metadata": {}
        }
      ]
    },
    {
      "cell_type": "markdown",
      "source": [
        "#SENTIMENT ANALYSIS"
      ],
      "metadata": {
        "id": "j3Qser0VgL5_"
      }
    },
    {
      "cell_type": "code",
      "source": [
        "import textblob\n",
        "from textblob import TextBlob"
      ],
      "metadata": {
        "id": "emi9ax9zUzAj"
      },
      "execution_count": null,
      "outputs": []
    },
    {
      "cell_type": "code",
      "source": [
        "def getSubjectivity(text):\n",
        "  return TextBlob(text).sentiment.subjectivity\n",
        "\n",
        "def getPolarity(text):\n",
        "  return TextBlob(text).sentiment.polarity\n",
        "\n",
        "datafinal['Subjectivity'] = datafinal['cleaned_text'].apply(getSubjectivity)\n",
        "datafinal['Polarity'] = datafinal['cleaned_text'].apply(getPolarity)\n",
        "datafinal"
      ],
      "metadata": {
        "colab": {
          "base_uri": "https://localhost:8080/",
          "height": 423
        },
        "id": "qPAxDlKO4Gho",
        "outputId": "8bae1e4d-f00e-420b-f5f6-1938fdccddad"
      },
      "execution_count": null,
      "outputs": [
        {
          "output_type": "execute_result",
          "data": {
            "text/html": [
              "<div>\n",
              "<style scoped>\n",
              "    .dataframe tbody tr th:only-of-type {\n",
              "        vertical-align: middle;\n",
              "    }\n",
              "\n",
              "    .dataframe tbody tr th {\n",
              "        vertical-align: top;\n",
              "    }\n",
              "\n",
              "    .dataframe thead th {\n",
              "        text-align: right;\n",
              "    }\n",
              "</style>\n",
              "<table border=\"1\" class=\"dataframe\">\n",
              "  <thead>\n",
              "    <tr style=\"text-align: right;\">\n",
              "      <th></th>\n",
              "      <th>cleaned_text</th>\n",
              "      <th>Subjectivity</th>\n",
              "      <th>Polarity</th>\n",
              "    </tr>\n",
              "  </thead>\n",
              "  <tbody>\n",
              "    <tr>\n",
              "      <th>0</th>\n",
              "      <td>pohon ketinggian meter menimpa pengendara vesp...</td>\n",
              "      <td>0.0</td>\n",
              "      <td>0.0</td>\n",
              "    </tr>\n",
              "    <tr>\n",
              "      <th>1</th>\n",
              "      <td>angin kencang acak acak rumah sorong papua</td>\n",
              "      <td>0.0</td>\n",
              "      <td>0.0</td>\n",
              "    </tr>\n",
              "    <tr>\n",
              "      <th>2</th>\n",
              "      <td>angin kencang acak acak rumah sorong papua</td>\n",
              "      <td>0.0</td>\n",
              "      <td>0.0</td>\n",
              "    </tr>\n",
              "    <tr>\n",
              "      <th>3</th>\n",
              "      <td>angin kencang acak acak rumah sorong papua</td>\n",
              "      <td>0.0</td>\n",
              "      <td>0.0</td>\n",
              "    </tr>\n",
              "    <tr>\n",
              "      <th>4</th>\n",
              "      <td>barusan teriakan ratu matanya kelilipan rambu...</td>\n",
              "      <td>0.0</td>\n",
              "      <td>0.0</td>\n",
              "    </tr>\n",
              "    <tr>\n",
              "      <th>...</th>\n",
              "      <td>...</td>\n",
              "      <td>...</td>\n",
              "      <td>...</td>\n",
              "    </tr>\n",
              "    <tr>\n",
              "      <th>15665</th>\n",
              "      <td>relawan lpbi kabupaten bangkalan menyerahkan b...</td>\n",
              "      <td>0.0</td>\n",
              "      <td>0.0</td>\n",
              "    </tr>\n",
              "    <tr>\n",
              "      <th>15666</th>\n",
              "      <td>relawan lpbi kabupaten bangkalan menyerahkan b...</td>\n",
              "      <td>0.0</td>\n",
              "      <td>0.0</td>\n",
              "    </tr>\n",
              "    <tr>\n",
              "      <th>15667</th>\n",
              "      <td>relawan lpbi kabupaten bangkalan menyerahkan b...</td>\n",
              "      <td>0.0</td>\n",
              "      <td>0.0</td>\n",
              "    </tr>\n",
              "    <tr>\n",
              "      <th>15668</th>\n",
              "      <td>rumah hujan badai angin topan badai katrina pu...</td>\n",
              "      <td>0.0</td>\n",
              "      <td>0.0</td>\n",
              "    </tr>\n",
              "    <tr>\n",
              "      <th>15669</th>\n",
              "      <td>beritasonora menit angin puting beliung sulawe...</td>\n",
              "      <td>0.0</td>\n",
              "      <td>0.0</td>\n",
              "    </tr>\n",
              "  </tbody>\n",
              "</table>\n",
              "<p>15670 rows × 3 columns</p>\n",
              "</div>"
            ],
            "text/plain": [
              "                                            cleaned_text  ...  Polarity\n",
              "0      pohon ketinggian meter menimpa pengendara vesp...  ...       0.0\n",
              "1             angin kencang acak acak rumah sorong papua  ...       0.0\n",
              "2             angin kencang acak acak rumah sorong papua  ...       0.0\n",
              "3             angin kencang acak acak rumah sorong papua  ...       0.0\n",
              "4       barusan teriakan ratu matanya kelilipan rambu...  ...       0.0\n",
              "...                                                  ...  ...       ...\n",
              "15665  relawan lpbi kabupaten bangkalan menyerahkan b...  ...       0.0\n",
              "15666  relawan lpbi kabupaten bangkalan menyerahkan b...  ...       0.0\n",
              "15667  relawan lpbi kabupaten bangkalan menyerahkan b...  ...       0.0\n",
              "15668  rumah hujan badai angin topan badai katrina pu...  ...       0.0\n",
              "15669  beritasonora menit angin puting beliung sulawe...  ...       0.0\n",
              "\n",
              "[15670 rows x 3 columns]"
            ]
          },
          "metadata": {},
          "execution_count": 66
        }
      ]
    },
    {
      "cell_type": "code",
      "source": [
        "def getAnalysis(score):\n",
        "  if score < 0:\n",
        "    return 'Negative'\n",
        "  elif score == 0:\n",
        "    return 'Neutral'\n",
        "  else:\n",
        "    return 'Positive'\n",
        "\n",
        "datafinal['Analitics'] = datafinal['Polarity'].apply(getAnalysis)\n",
        "datafinal.head()"
      ],
      "metadata": {
        "colab": {
          "base_uri": "https://localhost:8080/",
          "height": 206
        },
        "id": "7jtSu4W8U8li",
        "outputId": "ab6125e1-635f-4145-9ecf-231aa011fc1f"
      },
      "execution_count": null,
      "outputs": [
        {
          "output_type": "execute_result",
          "data": {
            "text/html": [
              "<div>\n",
              "<style scoped>\n",
              "    .dataframe tbody tr th:only-of-type {\n",
              "        vertical-align: middle;\n",
              "    }\n",
              "\n",
              "    .dataframe tbody tr th {\n",
              "        vertical-align: top;\n",
              "    }\n",
              "\n",
              "    .dataframe thead th {\n",
              "        text-align: right;\n",
              "    }\n",
              "</style>\n",
              "<table border=\"1\" class=\"dataframe\">\n",
              "  <thead>\n",
              "    <tr style=\"text-align: right;\">\n",
              "      <th></th>\n",
              "      <th>cleaned_text</th>\n",
              "      <th>Subjectivity</th>\n",
              "      <th>Polarity</th>\n",
              "      <th>Analitics</th>\n",
              "    </tr>\n",
              "  </thead>\n",
              "  <tbody>\n",
              "    <tr>\n",
              "      <th>0</th>\n",
              "      <td>pohon ketinggian meter menimpa pengendara vesp...</td>\n",
              "      <td>0.0</td>\n",
              "      <td>0.0</td>\n",
              "      <td>Neutral</td>\n",
              "    </tr>\n",
              "    <tr>\n",
              "      <th>1</th>\n",
              "      <td>angin kencang acak acak rumah sorong papua</td>\n",
              "      <td>0.0</td>\n",
              "      <td>0.0</td>\n",
              "      <td>Neutral</td>\n",
              "    </tr>\n",
              "    <tr>\n",
              "      <th>2</th>\n",
              "      <td>angin kencang acak acak rumah sorong papua</td>\n",
              "      <td>0.0</td>\n",
              "      <td>0.0</td>\n",
              "      <td>Neutral</td>\n",
              "    </tr>\n",
              "    <tr>\n",
              "      <th>3</th>\n",
              "      <td>angin kencang acak acak rumah sorong papua</td>\n",
              "      <td>0.0</td>\n",
              "      <td>0.0</td>\n",
              "      <td>Neutral</td>\n",
              "    </tr>\n",
              "    <tr>\n",
              "      <th>4</th>\n",
              "      <td>barusan teriakan ratu matanya kelilipan rambu...</td>\n",
              "      <td>0.0</td>\n",
              "      <td>0.0</td>\n",
              "      <td>Neutral</td>\n",
              "    </tr>\n",
              "  </tbody>\n",
              "</table>\n",
              "</div>"
            ],
            "text/plain": [
              "                                        cleaned_text  ...  Analitics\n",
              "0  pohon ketinggian meter menimpa pengendara vesp...  ...    Neutral\n",
              "1         angin kencang acak acak rumah sorong papua  ...    Neutral\n",
              "2         angin kencang acak acak rumah sorong papua  ...    Neutral\n",
              "3         angin kencang acak acak rumah sorong papua  ...    Neutral\n",
              "4   barusan teriakan ratu matanya kelilipan rambu...  ...    Neutral\n",
              "\n",
              "[5 rows x 4 columns]"
            ]
          },
          "metadata": {},
          "execution_count": 67
        }
      ]
    },
    {
      "cell_type": "code",
      "source": [
        "datafinal['Analitics'].value_counts()"
      ],
      "metadata": {
        "colab": {
          "base_uri": "https://localhost:8080/"
        },
        "id": "gXHHVC-bWGIY",
        "outputId": "c3ba379d-1dd0-4727-f6ad-8befc427f540"
      },
      "execution_count": null,
      "outputs": [
        {
          "output_type": "execute_result",
          "data": {
            "text/plain": [
              "Neutral     14986\n",
              "Positive      494\n",
              "Negative      190\n",
              "Name: Analitics, dtype: int64"
            ]
          },
          "metadata": {},
          "execution_count": 68
        }
      ]
    },
    {
      "cell_type": "markdown",
      "source": [
        "#VISUALISASI"
      ],
      "metadata": {
        "id": "jqqyW-prgVUG"
      }
    },
    {
      "cell_type": "markdown",
      "source": [
        "![2021-12-12 (1).png](data:image/png;base64,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)"
      ],
      "metadata": {
        "id": "vScf14zWgZYM"
      }
    },
    {
      "cell_type": "markdown",
      "source": [
        "**Interpretasi Wordcloud :** Wordcloud diatas menunjukkan semakin besar ukuran katanya maka semakin sering kata tersebut muncul dalam data. Sehingga, dapat kita ketahui bahwa kata yang sering muncul dalam data adalah angin, hujan, kencang, dan badai"
      ],
      "metadata": {
        "id": "go1cNSbwvpeC"
      }
    },
    {
      "cell_type": "markdown",
      "source": [
        "![2021-12-12 (2).png](data:image/png;base64,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)"
      ],
      "metadata": {
        "id": "Wmf7MKbogvjA"
      }
    },
    {
      "cell_type": "markdown",
      "source": [
        "**Interpretasi Trends Anlaysis :** Visualisasi diatas menunjukkan korelasi antar kata. Dari gambar diatas dapat kita ketahui bahwa pada awalnya orang-orang tidak mengkaitkan antara topik mengenai hujan dan badai. Namun, ada masa dimana orang-orang mengkaitkan antara kedua topik tersebut hal ini bisa dilihat pada segmen ke 8 sampai 10. Begitu pula dengan topik mengenai angin dan kencang, ada masa dimana orang-orang mengkaitkan antara keduanya seperti bisa dilihat pada segmen ke 4 sampai 6."
      ],
      "metadata": {
        "id": "htSVSGH6zvtG"
      }
    },
    {
      "cell_type": "markdown",
      "source": [
        "![2021-12-13.png](data:image/png;base64,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)"
      ],
      "metadata": {
        "id": "__zgk0UA4VRg"
      }
    },
    {
      "cell_type": "markdown",
      "source": [
        "**Interpretasi Wordlink :** Dari wordlink diatas dapat kita lihat jika kita membicarakan mengenai angin maka topik yang ikut dibicarakan juga adalah terkait hujan, badai, dan kencang. Jika kita membicarakan badai maka topik-topik terkait yang juga ikut dibicarakan adalah hujan, angin, ribut, halilintar, dan kencang. Lalu jika kita membicarakan topik hujan, maka topik-topik yang ikut dibicarakan adalah topik mengenai angin, ribut, badai, dan kencang."
      ],
      "metadata": {
        "id": "EcrRk8BC4dGq"
      }
    },
    {
      "cell_type": "markdown",
      "source": [
        "![Screenshot (306).png](data:image/png;base64,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)"
      ],
      "metadata": {
        "id": "u5F4G-8FrXrk"
      }
    },
    {
      "cell_type": "markdown",
      "source": [
        "**Interpretasi Spatial Analysis :** Pada analisis spatial ini setelah kami menyimpan data berupa tweet dan jumlah retweet dari masing masing ibukota provinsi di seluruh Indonesia, kami melakukan visualisasi maps menggunakan aplikasi **Tableau**. Dari analisa ini semakin warna daerahnya gelap maka semakin banyak retweet terkait dengan topik \"hujan angin\", maka dari analisa diatas dapat kita lihat retweet terkait topik \"hujan angin\" paling banyak ada di pulau jawa dan sekitaran nusa tenggara, sedangkan di wilayah lain cenderung sedikit. kita bisa asumsikan bahwa di pulau jawa sering terjadi \"hujan angin\" berdasarkan data yang kita punya."
      ],
      "metadata": {
        "id": "9HFEXPNLuJ5F"
      }
    }
  ],
  "metadata": {
    "colab": {
      "collapsed_sections": [],
      "name": "UAS KapSel Kelompok Badai.ipynb",
      "provenance": [],
      "include_colab_link": true
    },
    "kernelspec": {
      "display_name": "Python 3",
      "name": "python3"
    },
    "language_info": {
      "name": "python"
    }
  },
  "nbformat": 4,
  "nbformat_minor": 0
}